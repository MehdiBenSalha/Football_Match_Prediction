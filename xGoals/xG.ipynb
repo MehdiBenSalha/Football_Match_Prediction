{
  "cells": [
    {
      "cell_type": "code",
      "execution_count": 26,
      "metadata": {
        "colab": {
          "base_uri": "https://localhost:8080/"
        },
        "id": "h4DEMfygXk8s",
        "outputId": "d76d25a2-9967-44ed-f814-0eb2ed04b28c"
      },
      "outputs": [
        {
          "output_type": "stream",
          "name": "stdout",
          "text": [
            "First few rows of the dataset:\n",
            "        id  minute       result      X      Y        xG               player  \\\n",
            "0  30358.0     5.0  MissedShots  0.923  0.464  0.141077           Leroy Sané   \n",
            "1  30359.0     6.0  BlockedShot  0.764  0.427  0.012746     Roman Neustädter   \n",
            "2  30360.0     8.0         Goal  0.929  0.490  0.530869  Klaas-Jan Huntelaar   \n",
            "3  30362.0    13.0  MissedShots  0.829  0.555  0.075300          Dennis Aogo   \n",
            "4  30363.0    14.0    SavedShot  0.889  0.610  0.232375           Leroy Sané   \n",
            "\n",
            "  h_a  player_id situation  season   shotType  match_id      h_team  \\\n",
            "0   h      337.0  OpenPlay  2014.0   LeftFoot    5159.0  Schalke 04   \n",
            "1   h      346.0  OpenPlay  2014.0  RightFoot    5159.0  Schalke 04   \n",
            "2   h      340.0  OpenPlay  2014.0  RightFoot    5159.0  Schalke 04   \n",
            "3   h      334.0  OpenPlay  2014.0  RightFoot    5159.0  Schalke 04   \n",
            "4   h      337.0  OpenPlay  2014.0   LeftFoot    5159.0  Schalke 04   \n",
            "\n",
            "          a_team  h_goals  a_goals                 date  \\\n",
            "0  VfB Stuttgart      3.0      2.0  2015-05-02 14:30:00   \n",
            "1  VfB Stuttgart      3.0      2.0  2015-05-02 14:30:00   \n",
            "2  VfB Stuttgart      3.0      2.0  2015-05-02 14:30:00   \n",
            "3  VfB Stuttgart      3.0      2.0  2015-05-02 14:30:00   \n",
            "4  VfB Stuttgart      3.0      2.0  2015-05-02 14:30:00   \n",
            "\n",
            "            player_assisted   lastAction  \n",
            "0             Leon Goretzka         Pass  \n",
            "1                       NaN       Aerial  \n",
            "2                       NaN  BlockedPass  \n",
            "3       Klaas-Jan Huntelaar         Pass  \n",
            "4  Eric Maxim Choupo-Moting       TakeOn  \n",
            "                  id         minute              X              Y  \\\n",
            "count  383166.000000  383166.000000  383166.000000  383166.000000   \n",
            "mean   217260.527155      48.587857       0.842734       0.504506   \n",
            "std    137133.401625      26.595792       0.090542       0.129536   \n",
            "min         1.000000       0.000000       0.000000       0.000000   \n",
            "25%     95933.250000      26.000000       0.779000       0.413000   \n",
            "50%    199761.500000      49.000000       0.862000       0.501000   \n",
            "75%    352512.750000      71.000000       0.908000       0.597000   \n",
            "max    448682.000000     105.000000       1.000000       1.000000   \n",
            "\n",
            "                  xG      player_id         season       match_id  \\\n",
            "count  383166.000000  383166.000000  383166.000000  383166.000000   \n",
            "mean        0.107046    2982.664216    2017.237545    8412.551544   \n",
            "std         0.159940    2393.996701       2.158535    5022.643772   \n",
            "min         0.000000       2.000000    2014.000000      81.000000   \n",
            "25%         0.023507    1109.000000    2015.000000    4112.000000   \n",
            "50%         0.048984    2335.000000    2017.000000    8382.000000   \n",
            "75%         0.093096    4552.000000    2019.000000   12540.000000   \n",
            "max         0.979887   10153.000000    2021.000000   18001.000000   \n",
            "\n",
            "             h_goals        a_goals  \n",
            "count  383166.000000  383166.000000  \n",
            "mean        1.569959       1.240008  \n",
            "std         1.329754       1.175850  \n",
            "min         0.000000       0.000000  \n",
            "25%         1.000000       0.000000  \n",
            "50%         1.000000       1.000000  \n",
            "75%         2.000000       2.000000  \n",
            "max        10.000000       9.000000  \n"
          ]
        }
      ],
      "source": [
        "import pandas as pd\n",
        "\n",
        "# Load the CSV file into a Pandas DataFrame\n",
        "df = pd.read_csv('/content/drive/MyDrive/concatenated_final_dataset.csv')\n",
        "\n",
        "# View the first few rows of the DataFrame\n",
        "print(\"First few rows of the dataset:\")\n",
        "print(df.head())\n",
        "\n",
        "print(df.describe())\n",
        "# View the last few rows\n",
        "#print(\"Last few rows of the dataset:\")\n",
        "#print(df.tail())\n"
      ]
    },
    {
      "cell_type": "code",
      "execution_count": 31,
      "metadata": {
        "id": "KUGDOWP9YgdC"
      },
      "outputs": [],
      "source": [
        "#Preprocessing\n",
        "from sklearn.preprocessing import LabelEncoder\n",
        "\n",
        "def preprocess(df,xg):\n",
        "    # Keep only the desired columns\n",
        "    if(not xg):\n",
        "      desired_columns = ['minute', 'X', 'Y' , 'h_team', 'a_team', 'situation', 'shotType', 'lastAction' , 'result']\n",
        "      df_subset = df[desired_columns]\n",
        "    else:\n",
        "      desired_columns = ['minute', 'X', 'Y' , 'h_team', 'a_team', 'situation', 'shotType', 'lastAction' , 'result','xG']\n",
        "      df_subset = df[desired_columns]\n",
        "    # Drop the rows where the value in any row of the 'result' column is 'Son Heung-Min'\n",
        "    df_subset = df_subset.drop(df_subset[df_subset['result'] == 'Son Heung-Min'].index, axis=0)\n",
        "\n",
        "    # Replace values in the 'result' column\n",
        "    df_subset.loc[:, 'result'] = df_subset['result'].replace({'MissedShots': 0, 'BlockedShot': 0, 'SavedShot': 0, 'ShotOnPost': 0, 'OwnGoal': 0, 'Goal': 1})\n",
        "\n",
        "    # Convert the 'result' column to integers\n",
        "    df_subset['result'] = df_subset['result'].astype(int)\n",
        "\n",
        "    # Drop rows with NaN values in any column\n",
        "    df_subset = df_subset.dropna()\n",
        "\n",
        "    return df_subset\n"
      ]
    },
    {
      "cell_type": "code",
      "execution_count": 32,
      "metadata": {
        "id": "U_7MPcecbtnc"
      },
      "outputs": [],
      "source": [
        "#feature_engineering\n",
        "import numpy as np\n",
        "from sklearn.preprocessing import LabelEncoder\n",
        "\n",
        "def feature_engineering(df):\n",
        "    # Define a function to calculate XDTGi (Distance To Goal)\n",
        "    def calculate_XDTGi(X, Y):\n",
        "        return np.sqrt((105 - (X * 105))**2 + (32.5 - (Y * 32.5))**2)\n",
        "\n",
        "    # Define a function to calculate XATGi (Angle To Goal)\n",
        "    def calculate_XATGi(X, Y):\n",
        "        ai = np.arctan(7.32 * (105 - (X * 105)))\n",
        "        bi = ((105 - (X * 105))**2 + (32.5 - (Y * 68))**2 - (7.32/2)**2)\n",
        "        return np.abs((ai / bi) * (180 / np.pi))\n",
        "\n",
        "    # Apply the functions to the dataset using .loc\n",
        "    df.loc[:, 'XDTGi'] = calculate_XDTGi(df['X'], df['Y'])\n",
        "    df.loc[:, 'XATGi'] = calculate_XATGi(df['X'], df['Y'])\n",
        "\n",
        "    # Apply label encoding to object type columns\n",
        "    label_encoder = LabelEncoder()\n",
        "    for column in df.columns:\n",
        "        if df[column].dtype == 'object':\n",
        "            df[column] = label_encoder.fit_transform(df[column])\n",
        "\n",
        "    return df\n"
      ]
    },
    {
      "cell_type": "code",
      "source": [
        "df_subset=preprocess(df,False)\n",
        "df_subset=feature_engineering(df_subset)"
      ],
      "metadata": {
        "id": "1iCm-JM0WijD"
      },
      "execution_count": 35,
      "outputs": []
    },
    {
      "cell_type": "code",
      "source": [
        "print((df_subset.head()))"
      ],
      "metadata": {
        "colab": {
          "base_uri": "https://localhost:8080/"
        },
        "id": "vaKy_nY1cLMs",
        "outputId": "19b36454-6fb5-44c3-9b8b-648c567a7426"
      },
      "execution_count": 36,
      "outputs": [
        {
          "output_type": "stream",
          "name": "stdout",
          "text": [
            "   minute      X      Y  h_team  a_team  situation  shotType  lastAction  \\\n",
            "0     5.0  0.923  0.464     148     172          2         1          26   \n",
            "1     6.0  0.764  0.427     148     172          2         3           0   \n",
            "2     8.0  0.929  0.490     148     172          2         3           3   \n",
            "3    13.0  0.829  0.555     148     172          2         3          26   \n",
            "4    14.0  0.889  0.610     148     172          2         1          38   \n",
            "\n",
            "   result      XDTGi     XATGi  \n",
            "0       0  19.204780  1.683970  \n",
            "1       0  30.997513  0.146387  \n",
            "2       1  18.174367  2.075666  \n",
            "3       0  23.055279  0.266208  \n",
            "4       0  17.219019  0.439860  \n"
          ]
        }
      ]
    },
    {
      "cell_type": "code",
      "execution_count": 37,
      "metadata": {
        "colab": {
          "base_uri": "https://localhost:8080/"
        },
        "id": "f0cd7TZEjdPH",
        "outputId": "30b21f83-5006-4579-dbfc-527a1deda53a"
      },
      "outputs": [
        {
          "output_type": "stream",
          "name": "stdout",
          "text": [
            "Shape of X_train: (270427, 10)\n",
            "Shape of X_test: (67607, 10)\n",
            "Shape of y_train: (270427,)\n",
            "Shape of y_test: (67607,)\n"
          ]
        }
      ],
      "source": [
        "from sklearn.model_selection import train_test_split\n",
        "\n",
        "# Define the features and target variable\n",
        "X = df_subset.drop('result', axis=1)  # Features\n",
        "y = df_subset['result']  # Target variable\n",
        "\n",
        "# Split the dataset into training and testing sets\n",
        "X_train, X_test, y_train, y_test = train_test_split(X, y, test_size=0.2, random_state=42)\n",
        "\n",
        "# Display the shapes of the train and test sets\n",
        "print(\"Shape of X_train:\", X_train.shape)\n",
        "print(\"Shape of X_test:\", X_test.shape)\n",
        "print(\"Shape of y_train:\", y_train.shape)\n",
        "print(\"Shape of y_test:\", y_test.shape)\n"
      ]
    },
    {
      "cell_type": "code",
      "execution_count": 9,
      "metadata": {
        "colab": {
          "base_uri": "https://localhost:8080/"
        },
        "id": "2cZsgKDDlJSX",
        "outputId": "9c87839c-06cf-4d56-dcec-9ed702e1cd65"
      },
      "outputs": [
        {
          "output_type": "stream",
          "name": "stdout",
          "text": [
            "[0 1]\n",
            "int64\n"
          ]
        }
      ],
      "source": [
        "print(y_train.unique())\n",
        "print(y_train.dtype)"
      ]
    },
    {
      "cell_type": "code",
      "execution_count": 10,
      "metadata": {
        "colab": {
          "base_uri": "https://localhost:8080/"
        },
        "id": "BMKAUqDukcp7",
        "outputId": "53191b3e-ab8f-4e91-9870-3307107ae13d"
      },
      "outputs": [
        {
          "output_type": "stream",
          "name": "stdout",
          "text": [
            "Collecting catboost\n",
            "  Downloading catboost-1.2.5-cp310-cp310-manylinux2014_x86_64.whl (98.2 MB)\n",
            "\u001b[2K     \u001b[90m━━━━━━━━━━━━━━━━━━━━━━━━━━━━━━━━━━━━━━━━\u001b[0m \u001b[32m98.2/98.2 MB\u001b[0m \u001b[31m2.7 MB/s\u001b[0m eta \u001b[36m0:00:00\u001b[0m\n",
            "\u001b[?25hRequirement already satisfied: graphviz in /usr/local/lib/python3.10/dist-packages (from catboost) (0.20.3)\n",
            "Requirement already satisfied: matplotlib in /usr/local/lib/python3.10/dist-packages (from catboost) (3.7.1)\n",
            "Requirement already satisfied: numpy>=1.16.0 in /usr/local/lib/python3.10/dist-packages (from catboost) (1.25.2)\n",
            "Requirement already satisfied: pandas>=0.24 in /usr/local/lib/python3.10/dist-packages (from catboost) (2.0.3)\n",
            "Requirement already satisfied: scipy in /usr/local/lib/python3.10/dist-packages (from catboost) (1.11.4)\n",
            "Requirement already satisfied: plotly in /usr/local/lib/python3.10/dist-packages (from catboost) (5.15.0)\n",
            "Requirement already satisfied: six in /usr/local/lib/python3.10/dist-packages (from catboost) (1.16.0)\n",
            "Requirement already satisfied: python-dateutil>=2.8.2 in /usr/local/lib/python3.10/dist-packages (from pandas>=0.24->catboost) (2.8.2)\n",
            "Requirement already satisfied: pytz>=2020.1 in /usr/local/lib/python3.10/dist-packages (from pandas>=0.24->catboost) (2023.4)\n",
            "Requirement already satisfied: tzdata>=2022.1 in /usr/local/lib/python3.10/dist-packages (from pandas>=0.24->catboost) (2024.1)\n",
            "Requirement already satisfied: contourpy>=1.0.1 in /usr/local/lib/python3.10/dist-packages (from matplotlib->catboost) (1.2.1)\n",
            "Requirement already satisfied: cycler>=0.10 in /usr/local/lib/python3.10/dist-packages (from matplotlib->catboost) (0.12.1)\n",
            "Requirement already satisfied: fonttools>=4.22.0 in /usr/local/lib/python3.10/dist-packages (from matplotlib->catboost) (4.51.0)\n",
            "Requirement already satisfied: kiwisolver>=1.0.1 in /usr/local/lib/python3.10/dist-packages (from matplotlib->catboost) (1.4.5)\n",
            "Requirement already satisfied: packaging>=20.0 in /usr/local/lib/python3.10/dist-packages (from matplotlib->catboost) (24.0)\n",
            "Requirement already satisfied: pillow>=6.2.0 in /usr/local/lib/python3.10/dist-packages (from matplotlib->catboost) (9.4.0)\n",
            "Requirement already satisfied: pyparsing>=2.3.1 in /usr/local/lib/python3.10/dist-packages (from matplotlib->catboost) (3.1.2)\n",
            "Requirement already satisfied: tenacity>=6.2.0 in /usr/local/lib/python3.10/dist-packages (from plotly->catboost) (8.2.3)\n",
            "Installing collected packages: catboost\n",
            "Successfully installed catboost-1.2.5\n"
          ]
        }
      ],
      "source": [
        "pip install catboost"
      ]
    },
    {
      "cell_type": "code",
      "execution_count": null,
      "metadata": {
        "id": "plL1O52RkUkV"
      },
      "outputs": [],
      "source": [
        "from imblearn.over_sampling import SMOTE\n",
        "from sklearn.ensemble import RandomForestClassifier\n",
        "from catboost import CatBoostClassifier\n",
        "from xgboost import XGBClassifier\n",
        "from lightgbm import LGBMClassifier\n",
        "\n",
        "# Initialize SMOTE\n",
        "smote = SMOTE(random_state=42)\n",
        "# Apply SMOTE to the labels\n",
        "X_train_balanced, y_train_balanced = smote.fit_resample(X_train, y_train)\n",
        "# Apply SMOTE to balance the classes\n",
        "smote = SMOTE(random_state=42)\n",
        "X_train_balanced, y_train_balanced = smote.fit_resample(X_train, y_train)\n",
        "\n",
        "# Initialize models\n",
        "rf_model = RandomForestClassifier()\n",
        "catboost_model = CatBoostClassifier()\n",
        "xgboost_model = XGBClassifier()\n",
        "lgbm_model = LGBMClassifier()\n",
        "\n",
        "# Train models\n",
        "rf_model.fit(X_train_balanced, y_train_balanced)\n",
        "catboost_model.fit(X_train_balanced, y_train_balanced)\n",
        "xgboost_model.fit(X_train_balanced, y_train_balanced)\n",
        "lgbm_model.fit(X_train_balanced, y_train_balanced)\n",
        "\n",
        "# Predict probabilities using trained models\n",
        "rf_probabilities = rf_model.predict_proba(X_test)\n",
        "catboost_probabilities = catboost_model.predict_proba(X_test)\n",
        "xgboost_probabilities = xgboost_model.predict_proba(X_test)\n",
        "lgbm_probabilities = lgbm_model.predict_proba(X_test)"
      ]
    },
    {
      "cell_type": "code",
      "execution_count": 39,
      "metadata": {
        "colab": {
          "base_uri": "https://localhost:8080/"
        },
        "id": "qu7yCqF0n6pf",
        "outputId": "34f5bab4-7123-4c01-97e4-b928d6e0af02"
      },
      "outputs": [
        {
          "output_type": "stream",
          "name": "stdout",
          "text": [
            "RandomForestClassifier Accuracy: 0.8577809990089783\n",
            "CatBoostClassifier Accuracy: 0.9009274187584126\n",
            "XGBClassifier Accuracy: 0.8567308118981762\n",
            "LGBMClassifier Accuracy: 0.849394293490319\n"
          ]
        }
      ],
      "source": [
        "# Evaluate models (using validation data or cross-validation)\n",
        "\n",
        "(X_val, y_val)=(X_test,y_test)\n",
        "# Assuming X_val contains categorical variables\n",
        "label_encoder_X = LabelEncoder()\n",
        "for column in X_val.columns:\n",
        "    if X_val[column].dtype == object:\n",
        "        X_val[column] = label_encoder_X.fit_transform(X_val[column])\n",
        "# Evaluate RandomForestClassifier\n",
        "rf_accuracy = rf_model.score(X_val, y_val)\n",
        "# Evaluate CatBoostClassifier\n",
        "catboost_accuracy = catboost_model.score(X_val, y_val)\n",
        "# Evaluate XGBClassifier\n",
        "xgboost_accuracy = xgboost_model.score(X_val, y_val)\n",
        "# Evaluate LGBMClassifier\n",
        "lgbm_accuracy = lgbm_model.score(X_val, y_val)\n",
        "\n",
        "# Print model accuracies\n",
        "print(\"RandomForestClassifier Accuracy:\", rf_accuracy)\n",
        "print(\"CatBoostClassifier Accuracy:\", catboost_accuracy)\n",
        "print(\"XGBClassifier Accuracy:\", xgboost_accuracy)\n",
        "print(\"LGBMClassifier Accuracy:\", lgbm_accuracy)\n"
      ]
    },
    {
      "cell_type": "code",
      "source": [
        "from sklearn.metrics import mean_squared_error\n",
        "\n",
        "# Evaluate RandomForestClassifier\n",
        "rf_mse = mean_squared_error(y_test, rf_probabilities[:, 1])\n",
        "rf_error = 1 - rf_accuracy\n",
        "print(\"RandomForestClassifier MSE:\", rf_mse)\n",
        "print(\"RandomForestClassifier Error:\", rf_error)\n",
        "\n",
        "# Evaluate CatBoostClassifier\n",
        "catboost_mse = mean_squared_error(y_test, catboost_probabilities[:, 1])\n",
        "catboost_error = 1 - catboost_accuracy\n",
        "print(\"CatBoostClassifier MSE:\", catboost_mse)\n",
        "print(\"CatBoostClassifier Error:\", catboost_error)\n",
        "\n",
        "# Evaluate XGBClassifier\n",
        "xgboost_mse = mean_squared_error(y_test, xgboost_probabilities[:, 1])\n",
        "xgboost_error = 1 - xgboost_accuracy\n",
        "print(\"XGBClassifier MSE:\", xgboost_mse)\n",
        "print(\"XGBClassifier Error:\", xgboost_error)\n",
        "\n",
        "# Evaluate LGBMClassifier\n",
        "lgbm_mse = mean_squared_error(y_test, lgbm_probabilities[:, 1])\n",
        "lgbm_error = 1 - lgbm_accuracy\n",
        "print(\"LGBMClassifier MSE:\", lgbm_mse)\n",
        "print(\"LGBMClassifier Error:\", lgbm_error)\n"
      ],
      "metadata": {
        "colab": {
          "base_uri": "https://localhost:8080/"
        },
        "id": "XDXuS-nvDHyW",
        "outputId": "a9fa03e1-c232-4cb7-9c88-d936105e0aa3"
      },
      "execution_count": 40,
      "outputs": [
        {
          "output_type": "stream",
          "name": "stdout",
          "text": [
            "RandomForestClassifier MSE: 0.10717067683449936\n",
            "RandomForestClassifier Error: 0.1422190009910217\n",
            "CatBoostClassifier MSE: 0.08035488570562702\n",
            "CatBoostClassifier Error: 0.09907258124158735\n",
            "XGBClassifier MSE: 0.10761984509321595\n",
            "XGBClassifier Error: 0.14326918810182376\n",
            "LGBMClassifier MSE: 0.1123481878845159\n",
            "LGBMClassifier Error: 0.15060570650968097\n"
          ]
        }
      ]
    },
    {
      "cell_type": "code",
      "execution_count": null,
      "metadata": {
        "colab": {
          "background_save": true
        },
        "id": "Omw1u1W1dnTC",
        "outputId": "378c9593-75e1-43b9-d0e7-9a6ea5726085"
      },
      "outputs": [
        {
          "name": "stdout",
          "output_type": "stream",
          "text": [
            "Epoch 1/20\n",
            "15058/15058 [==============================] - 41s 3ms/step - loss: 0.6749 - accuracy: 0.6547\n",
            "Epoch 2/20\n",
            "15058/15058 [==============================] - 31s 2ms/step - loss: 0.5853 - accuracy: 0.7088\n",
            "Epoch 3/20\n",
            "15058/15058 [==============================] - 41s 3ms/step - loss: 0.5754 - accuracy: 0.7158\n",
            "Epoch 4/20\n",
            "15058/15058 [==============================] - 34s 2ms/step - loss: 0.5707 - accuracy: 0.7199\n",
            "Epoch 5/20\n",
            " 4346/15058 [=======>......................] - ETA: 23s - loss: 0.5662 - accuracy: 0.7240"
          ]
        }
      ],
      "source": [
        "# Importing required libraries\n",
        "from tensorflow.keras.models import Sequential\n",
        "from tensorflow.keras.layers import Dense, Dropout\n",
        "from tensorflow.keras.optimizers import Adam\n",
        "\n",
        "# Initialize the deep learning model\n",
        "dl_model = Sequential()\n",
        "\n",
        "# Add layers to the model\n",
        "dl_model.add(Dense(64, activation='relu', input_shape=(X_train.shape[1],)))\n",
        "dl_model.add(Dropout(0.5))\n",
        "dl_model.add(Dense(64, activation='relu'))\n",
        "dl_model.add(Dropout(0.5))\n",
        "dl_model.add(Dense(1, activation='sigmoid'))\n",
        "\n",
        "# Compile the model\n",
        "dl_model.compile(loss='binary_crossentropy', optimizer=Adam(learning_rate=0.001), metrics=['accuracy'])\n",
        "\n",
        "# Train the model\n",
        "dl_model.fit(X_train_balanced, y_train_balanced, epochs=20, batch_size=32, verbose=1)\n",
        "\n",
        "# Evaluate the model\n",
        "dl_accuracy = dl_model.evaluate(X_test, y_test, verbose=0)\n",
        "print(\"Deep Learning Model Accuracy:\", dl_accuracy[1])\n"
      ]
    },
    {
      "cell_type": "code",
      "execution_count": 71,
      "metadata": {
        "id": "yTc7FO5LwCIc"
      },
      "outputs": [],
      "source": [
        "original_xG = pd.read_csv('/content/drive/MyDrive/concatenated_final_dataset.csv')\n",
        "original_xG=preprocess(original_xG,True)\n",
        "original_xG=feature_engineering(original_xG)\n",
        "predict_xG=(original_xG.drop(['xG'],axis=1))\n",
        "original_xG=original_xG.reset_index()\n",
        "original_xG=original_xG.drop(['index'],axis=1)\n",
        "predict_xG=predict_xG.reset_index()\n",
        "predict_xG=predict_xG.drop(['index'],axis=1)"
      ]
    },
    {
      "cell_type": "code",
      "source": [
        "# Calculate the predicted probabilities of xG using the trained models\n",
        "X = predict_xG.drop('result', axis=1)\n",
        "rf_predicted_xG = rf_model.predict_proba(X)\n",
        "catboost_predicted_xG = catboost_model.predict_proba(X)\n",
        "xgboost_predicted_xG = xgboost_model.predict_proba(X)\n",
        "lgbm_predicted_xG = lgbm_model.predict_proba(X)\n",
        "\n",
        "# Create a DataFrame to store the predicted xG values\n",
        "predicted_xG_df = pd.DataFrame({\n",
        "    'RF_predicted_xG': rf_predicted_xG[:, 1],\n",
        "    'CatBoost_predicted_xG': catboost_predicted_xG[:, 1],\n",
        "    'XGBoost_predicted_xG': xgboost_predicted_xG[:, 1],\n",
        "    'LGBM_predicted_xG': lgbm_predicted_xG[:, 1]\n",
        "})\n",
        "\n",
        "# Extract the original xG values\n",
        "xG = original_xG['xG']\n",
        "# Merge the original xG values with the predicted xG values\n",
        "merged_xG = pd.concat([xG, predicted_xG_df], axis=1)\n",
        "\n",
        "# Compare the predicted xG values with the original xG values\n",
        "merged_xG['RF_xG_difference'] = merged_xG['RF_predicted_xG'] - merged_xG['xG']\n",
        "merged_xG['CatBoost_xG_difference'] = merged_xG['CatBoost_predicted_xG'] - merged_xG['xG']\n",
        "merged_xG['XGBoost_xG_difference'] = merged_xG['XGBoost_predicted_xG'] - merged_xG['xG']\n",
        "merged_xG['LGBM_xG_difference'] = merged_xG['LGBM_predicted_xG'] - merged_xG['xG']\n",
        "\n",
        "# Display the merged xG data with predicted xG values and differences\n",
        "print(merged_xG)\n"
      ],
      "metadata": {
        "colab": {
          "base_uri": "https://localhost:8080/"
        },
        "id": "Kw-ktZcfeeqA",
        "outputId": "a05df01d-8959-452a-ceb4-9bfd07c5e849"
      },
      "execution_count": 72,
      "outputs": [
        {
          "output_type": "stream",
          "name": "stdout",
          "text": [
            "              xG  RF_predicted_xG  CatBoost_predicted_xG  \\\n",
            "0       0.141077             0.81               0.388178   \n",
            "1       0.012746             0.00               0.030785   \n",
            "2       0.530869             0.62               0.579303   \n",
            "3       0.075300             0.12               0.192653   \n",
            "4       0.232375             0.24               0.289411   \n",
            "...          ...              ...                    ...   \n",
            "338029  0.054789             0.05               0.103768   \n",
            "338030  0.127258             0.24               0.420007   \n",
            "338031  0.080335             0.25               0.261630   \n",
            "338032  0.031638             0.06               0.125812   \n",
            "338033  0.450002             0.79               0.488116   \n",
            "\n",
            "        XGBoost_predicted_xG  LGBM_predicted_xG  RF_xG_difference  \\\n",
            "0                   0.761209           0.784651          0.668923   \n",
            "1                   0.063485           0.064712         -0.012746   \n",
            "2                   0.732128           0.792962          0.089131   \n",
            "3                   0.454531           0.327077          0.044700   \n",
            "4                   0.708920           0.550355          0.007625   \n",
            "...                      ...                ...               ...   \n",
            "338029              0.096454           0.167493         -0.004789   \n",
            "338030              0.702983           0.614048          0.112742   \n",
            "338031              0.400210           0.330204          0.169665   \n",
            "338032              0.119367           0.152835          0.028362   \n",
            "338033              0.490865           0.371052          0.339998   \n",
            "\n",
            "        CatBoost_xG_difference  XGBoost_xG_difference  LGBM_xG_difference  \n",
            "0                     0.247101               0.620132            0.643574  \n",
            "1                     0.018039               0.050739            0.051966  \n",
            "2                     0.048434               0.201259            0.262093  \n",
            "3                     0.117352               0.379231            0.251777  \n",
            "4                     0.057036               0.476545            0.317980  \n",
            "...                        ...                    ...                 ...  \n",
            "338029                0.048980               0.041665            0.112704  \n",
            "338030                0.292749               0.575725            0.486790  \n",
            "338031                0.181295               0.319875            0.249870  \n",
            "338032                0.094174               0.087730            0.121197  \n",
            "338033                0.038114               0.040862           -0.078950  \n",
            "\n",
            "[338034 rows x 9 columns]\n"
          ]
        }
      ]
    },
    {
      "cell_type": "code",
      "source": [
        "from sklearn.metrics import mean_squared_error\n",
        "print(mean_squared_error(merged_xG['RF_predicted_xG'] , merged_xG['xG']))\n",
        "print(mean_squared_error(merged_xG['CatBoost_predicted_xG'] , merged_xG['xG']))\n",
        "print(mean_squared_error(merged_xG['XGBoost_predicted_xG'] , merged_xG['xG']))\n",
        "print(mean_squared_error(merged_xG['LGBM_predicted_xG'] , merged_xG['xG']))"
      ],
      "metadata": {
        "colab": {
          "base_uri": "https://localhost:8080/"
        },
        "id": "HgADtH3vjyV2",
        "outputId": "127874ce-71ab-497a-87c6-1ef3e04fb486"
      },
      "execution_count": 76,
      "outputs": [
        {
          "output_type": "stream",
          "name": "stdout",
          "text": [
            "0.03849068218853166\n",
            "0.009724966984891857\n",
            "0.03607229691957938\n",
            "0.04072413427507297\n"
          ]
        }
      ]
    },
    {
      "cell_type": "code",
      "source": [
        "merged_xG.describe()"
      ],
      "metadata": {
        "colab": {
          "base_uri": "https://localhost:8080/",
          "height": 320
        },
        "id": "J5HzKYcyiJPB",
        "outputId": "35a4321c-17d9-41c1-b711-55095a3fcd7d"
      },
      "execution_count": 75,
      "outputs": [
        {
          "output_type": "execute_result",
          "data": {
            "text/plain": [
              "                  xG  RF_predicted_xG  CatBoost_predicted_xG  \\\n",
              "count  338034.000000    338034.000000          338034.000000   \n",
              "mean        0.110556         0.167534               0.141035   \n",
              "std         0.162089         0.246968               0.163230   \n",
              "min         0.000000         0.000000               0.000112   \n",
              "25%         0.024697         0.020000               0.039118   \n",
              "50%         0.050862         0.070000               0.079726   \n",
              "75%         0.097514         0.180000               0.176235   \n",
              "max         0.979887         1.000000               0.995410   \n",
              "\n",
              "       XGBoost_predicted_xG  LGBM_predicted_xG  RF_xG_difference  \\\n",
              "count         338034.000000      338034.000000     338034.000000   \n",
              "mean               0.230017           0.248196          0.056978   \n",
              "std                0.221611           0.221440          0.187735   \n",
              "min                0.001321           0.009525         -0.780870   \n",
              "25%                0.063022           0.078876         -0.017810   \n",
              "50%                0.146462           0.164205          0.007930   \n",
              "75%                0.331862           0.355990          0.073171   \n",
              "max                0.995742           0.992529          0.969385   \n",
              "\n",
              "       CatBoost_xG_difference  XGBoost_xG_difference  LGBM_xG_difference  \n",
              "count           338034.000000          338034.000000       338034.000000  \n",
              "mean                 0.030479               0.119461            0.137640  \n",
              "std                  0.093787               0.147653            0.147578  \n",
              "min                 -0.718899              -0.731059           -0.636474  \n",
              "25%                  0.000005               0.021100            0.037903  \n",
              "50%                  0.020886               0.078590            0.096680  \n",
              "75%                  0.057930               0.181543            0.200295  \n",
              "max                  0.915441               0.945901            0.940431  "
            ],
            "text/html": [
              "\n",
              "  <div id=\"df-5aeb0fba-a7c0-499b-9920-fe0f19675da8\" class=\"colab-df-container\">\n",
              "    <div>\n",
              "<style scoped>\n",
              "    .dataframe tbody tr th:only-of-type {\n",
              "        vertical-align: middle;\n",
              "    }\n",
              "\n",
              "    .dataframe tbody tr th {\n",
              "        vertical-align: top;\n",
              "    }\n",
              "\n",
              "    .dataframe thead th {\n",
              "        text-align: right;\n",
              "    }\n",
              "</style>\n",
              "<table border=\"1\" class=\"dataframe\">\n",
              "  <thead>\n",
              "    <tr style=\"text-align: right;\">\n",
              "      <th></th>\n",
              "      <th>xG</th>\n",
              "      <th>RF_predicted_xG</th>\n",
              "      <th>CatBoost_predicted_xG</th>\n",
              "      <th>XGBoost_predicted_xG</th>\n",
              "      <th>LGBM_predicted_xG</th>\n",
              "      <th>RF_xG_difference</th>\n",
              "      <th>CatBoost_xG_difference</th>\n",
              "      <th>XGBoost_xG_difference</th>\n",
              "      <th>LGBM_xG_difference</th>\n",
              "    </tr>\n",
              "  </thead>\n",
              "  <tbody>\n",
              "    <tr>\n",
              "      <th>count</th>\n",
              "      <td>338034.000000</td>\n",
              "      <td>338034.000000</td>\n",
              "      <td>338034.000000</td>\n",
              "      <td>338034.000000</td>\n",
              "      <td>338034.000000</td>\n",
              "      <td>338034.000000</td>\n",
              "      <td>338034.000000</td>\n",
              "      <td>338034.000000</td>\n",
              "      <td>338034.000000</td>\n",
              "    </tr>\n",
              "    <tr>\n",
              "      <th>mean</th>\n",
              "      <td>0.110556</td>\n",
              "      <td>0.167534</td>\n",
              "      <td>0.141035</td>\n",
              "      <td>0.230017</td>\n",
              "      <td>0.248196</td>\n",
              "      <td>0.056978</td>\n",
              "      <td>0.030479</td>\n",
              "      <td>0.119461</td>\n",
              "      <td>0.137640</td>\n",
              "    </tr>\n",
              "    <tr>\n",
              "      <th>std</th>\n",
              "      <td>0.162089</td>\n",
              "      <td>0.246968</td>\n",
              "      <td>0.163230</td>\n",
              "      <td>0.221611</td>\n",
              "      <td>0.221440</td>\n",
              "      <td>0.187735</td>\n",
              "      <td>0.093787</td>\n",
              "      <td>0.147653</td>\n",
              "      <td>0.147578</td>\n",
              "    </tr>\n",
              "    <tr>\n",
              "      <th>min</th>\n",
              "      <td>0.000000</td>\n",
              "      <td>0.000000</td>\n",
              "      <td>0.000112</td>\n",
              "      <td>0.001321</td>\n",
              "      <td>0.009525</td>\n",
              "      <td>-0.780870</td>\n",
              "      <td>-0.718899</td>\n",
              "      <td>-0.731059</td>\n",
              "      <td>-0.636474</td>\n",
              "    </tr>\n",
              "    <tr>\n",
              "      <th>25%</th>\n",
              "      <td>0.024697</td>\n",
              "      <td>0.020000</td>\n",
              "      <td>0.039118</td>\n",
              "      <td>0.063022</td>\n",
              "      <td>0.078876</td>\n",
              "      <td>-0.017810</td>\n",
              "      <td>0.000005</td>\n",
              "      <td>0.021100</td>\n",
              "      <td>0.037903</td>\n",
              "    </tr>\n",
              "    <tr>\n",
              "      <th>50%</th>\n",
              "      <td>0.050862</td>\n",
              "      <td>0.070000</td>\n",
              "      <td>0.079726</td>\n",
              "      <td>0.146462</td>\n",
              "      <td>0.164205</td>\n",
              "      <td>0.007930</td>\n",
              "      <td>0.020886</td>\n",
              "      <td>0.078590</td>\n",
              "      <td>0.096680</td>\n",
              "    </tr>\n",
              "    <tr>\n",
              "      <th>75%</th>\n",
              "      <td>0.097514</td>\n",
              "      <td>0.180000</td>\n",
              "      <td>0.176235</td>\n",
              "      <td>0.331862</td>\n",
              "      <td>0.355990</td>\n",
              "      <td>0.073171</td>\n",
              "      <td>0.057930</td>\n",
              "      <td>0.181543</td>\n",
              "      <td>0.200295</td>\n",
              "    </tr>\n",
              "    <tr>\n",
              "      <th>max</th>\n",
              "      <td>0.979887</td>\n",
              "      <td>1.000000</td>\n",
              "      <td>0.995410</td>\n",
              "      <td>0.995742</td>\n",
              "      <td>0.992529</td>\n",
              "      <td>0.969385</td>\n",
              "      <td>0.915441</td>\n",
              "      <td>0.945901</td>\n",
              "      <td>0.940431</td>\n",
              "    </tr>\n",
              "  </tbody>\n",
              "</table>\n",
              "</div>\n",
              "    <div class=\"colab-df-buttons\">\n",
              "\n",
              "  <div class=\"colab-df-container\">\n",
              "    <button class=\"colab-df-convert\" onclick=\"convertToInteractive('df-5aeb0fba-a7c0-499b-9920-fe0f19675da8')\"\n",
              "            title=\"Convert this dataframe to an interactive table.\"\n",
              "            style=\"display:none;\">\n",
              "\n",
              "  <svg xmlns=\"http://www.w3.org/2000/svg\" height=\"24px\" viewBox=\"0 -960 960 960\">\n",
              "    <path d=\"M120-120v-720h720v720H120Zm60-500h600v-160H180v160Zm220 220h160v-160H400v160Zm0 220h160v-160H400v160ZM180-400h160v-160H180v160Zm440 0h160v-160H620v160ZM180-180h160v-160H180v160Zm440 0h160v-160H620v160Z\"/>\n",
              "  </svg>\n",
              "    </button>\n",
              "\n",
              "  <style>\n",
              "    .colab-df-container {\n",
              "      display:flex;\n",
              "      gap: 12px;\n",
              "    }\n",
              "\n",
              "    .colab-df-convert {\n",
              "      background-color: #E8F0FE;\n",
              "      border: none;\n",
              "      border-radius: 50%;\n",
              "      cursor: pointer;\n",
              "      display: none;\n",
              "      fill: #1967D2;\n",
              "      height: 32px;\n",
              "      padding: 0 0 0 0;\n",
              "      width: 32px;\n",
              "    }\n",
              "\n",
              "    .colab-df-convert:hover {\n",
              "      background-color: #E2EBFA;\n",
              "      box-shadow: 0px 1px 2px rgba(60, 64, 67, 0.3), 0px 1px 3px 1px rgba(60, 64, 67, 0.15);\n",
              "      fill: #174EA6;\n",
              "    }\n",
              "\n",
              "    .colab-df-buttons div {\n",
              "      margin-bottom: 4px;\n",
              "    }\n",
              "\n",
              "    [theme=dark] .colab-df-convert {\n",
              "      background-color: #3B4455;\n",
              "      fill: #D2E3FC;\n",
              "    }\n",
              "\n",
              "    [theme=dark] .colab-df-convert:hover {\n",
              "      background-color: #434B5C;\n",
              "      box-shadow: 0px 1px 3px 1px rgba(0, 0, 0, 0.15);\n",
              "      filter: drop-shadow(0px 1px 2px rgba(0, 0, 0, 0.3));\n",
              "      fill: #FFFFFF;\n",
              "    }\n",
              "  </style>\n",
              "\n",
              "    <script>\n",
              "      const buttonEl =\n",
              "        document.querySelector('#df-5aeb0fba-a7c0-499b-9920-fe0f19675da8 button.colab-df-convert');\n",
              "      buttonEl.style.display =\n",
              "        google.colab.kernel.accessAllowed ? 'block' : 'none';\n",
              "\n",
              "      async function convertToInteractive(key) {\n",
              "        const element = document.querySelector('#df-5aeb0fba-a7c0-499b-9920-fe0f19675da8');\n",
              "        const dataTable =\n",
              "          await google.colab.kernel.invokeFunction('convertToInteractive',\n",
              "                                                    [key], {});\n",
              "        if (!dataTable) return;\n",
              "\n",
              "        const docLinkHtml = 'Like what you see? Visit the ' +\n",
              "          '<a target=\"_blank\" href=https://colab.research.google.com/notebooks/data_table.ipynb>data table notebook</a>'\n",
              "          + ' to learn more about interactive tables.';\n",
              "        element.innerHTML = '';\n",
              "        dataTable['output_type'] = 'display_data';\n",
              "        await google.colab.output.renderOutput(dataTable, element);\n",
              "        const docLink = document.createElement('div');\n",
              "        docLink.innerHTML = docLinkHtml;\n",
              "        element.appendChild(docLink);\n",
              "      }\n",
              "    </script>\n",
              "  </div>\n",
              "\n",
              "\n",
              "<div id=\"df-1344d4f4-4317-4009-94d4-aedc552c8954\">\n",
              "  <button class=\"colab-df-quickchart\" onclick=\"quickchart('df-1344d4f4-4317-4009-94d4-aedc552c8954')\"\n",
              "            title=\"Suggest charts\"\n",
              "            style=\"display:none;\">\n",
              "\n",
              "<svg xmlns=\"http://www.w3.org/2000/svg\" height=\"24px\"viewBox=\"0 0 24 24\"\n",
              "     width=\"24px\">\n",
              "    <g>\n",
              "        <path d=\"M19 3H5c-1.1 0-2 .9-2 2v14c0 1.1.9 2 2 2h14c1.1 0 2-.9 2-2V5c0-1.1-.9-2-2-2zM9 17H7v-7h2v7zm4 0h-2V7h2v10zm4 0h-2v-4h2v4z\"/>\n",
              "    </g>\n",
              "</svg>\n",
              "  </button>\n",
              "\n",
              "<style>\n",
              "  .colab-df-quickchart {\n",
              "      --bg-color: #E8F0FE;\n",
              "      --fill-color: #1967D2;\n",
              "      --hover-bg-color: #E2EBFA;\n",
              "      --hover-fill-color: #174EA6;\n",
              "      --disabled-fill-color: #AAA;\n",
              "      --disabled-bg-color: #DDD;\n",
              "  }\n",
              "\n",
              "  [theme=dark] .colab-df-quickchart {\n",
              "      --bg-color: #3B4455;\n",
              "      --fill-color: #D2E3FC;\n",
              "      --hover-bg-color: #434B5C;\n",
              "      --hover-fill-color: #FFFFFF;\n",
              "      --disabled-bg-color: #3B4455;\n",
              "      --disabled-fill-color: #666;\n",
              "  }\n",
              "\n",
              "  .colab-df-quickchart {\n",
              "    background-color: var(--bg-color);\n",
              "    border: none;\n",
              "    border-radius: 50%;\n",
              "    cursor: pointer;\n",
              "    display: none;\n",
              "    fill: var(--fill-color);\n",
              "    height: 32px;\n",
              "    padding: 0;\n",
              "    width: 32px;\n",
              "  }\n",
              "\n",
              "  .colab-df-quickchart:hover {\n",
              "    background-color: var(--hover-bg-color);\n",
              "    box-shadow: 0 1px 2px rgba(60, 64, 67, 0.3), 0 1px 3px 1px rgba(60, 64, 67, 0.15);\n",
              "    fill: var(--button-hover-fill-color);\n",
              "  }\n",
              "\n",
              "  .colab-df-quickchart-complete:disabled,\n",
              "  .colab-df-quickchart-complete:disabled:hover {\n",
              "    background-color: var(--disabled-bg-color);\n",
              "    fill: var(--disabled-fill-color);\n",
              "    box-shadow: none;\n",
              "  }\n",
              "\n",
              "  .colab-df-spinner {\n",
              "    border: 2px solid var(--fill-color);\n",
              "    border-color: transparent;\n",
              "    border-bottom-color: var(--fill-color);\n",
              "    animation:\n",
              "      spin 1s steps(1) infinite;\n",
              "  }\n",
              "\n",
              "  @keyframes spin {\n",
              "    0% {\n",
              "      border-color: transparent;\n",
              "      border-bottom-color: var(--fill-color);\n",
              "      border-left-color: var(--fill-color);\n",
              "    }\n",
              "    20% {\n",
              "      border-color: transparent;\n",
              "      border-left-color: var(--fill-color);\n",
              "      border-top-color: var(--fill-color);\n",
              "    }\n",
              "    30% {\n",
              "      border-color: transparent;\n",
              "      border-left-color: var(--fill-color);\n",
              "      border-top-color: var(--fill-color);\n",
              "      border-right-color: var(--fill-color);\n",
              "    }\n",
              "    40% {\n",
              "      border-color: transparent;\n",
              "      border-right-color: var(--fill-color);\n",
              "      border-top-color: var(--fill-color);\n",
              "    }\n",
              "    60% {\n",
              "      border-color: transparent;\n",
              "      border-right-color: var(--fill-color);\n",
              "    }\n",
              "    80% {\n",
              "      border-color: transparent;\n",
              "      border-right-color: var(--fill-color);\n",
              "      border-bottom-color: var(--fill-color);\n",
              "    }\n",
              "    90% {\n",
              "      border-color: transparent;\n",
              "      border-bottom-color: var(--fill-color);\n",
              "    }\n",
              "  }\n",
              "</style>\n",
              "\n",
              "  <script>\n",
              "    async function quickchart(key) {\n",
              "      const quickchartButtonEl =\n",
              "        document.querySelector('#' + key + ' button');\n",
              "      quickchartButtonEl.disabled = true;  // To prevent multiple clicks.\n",
              "      quickchartButtonEl.classList.add('colab-df-spinner');\n",
              "      try {\n",
              "        const charts = await google.colab.kernel.invokeFunction(\n",
              "            'suggestCharts', [key], {});\n",
              "      } catch (error) {\n",
              "        console.error('Error during call to suggestCharts:', error);\n",
              "      }\n",
              "      quickchartButtonEl.classList.remove('colab-df-spinner');\n",
              "      quickchartButtonEl.classList.add('colab-df-quickchart-complete');\n",
              "    }\n",
              "    (() => {\n",
              "      let quickchartButtonEl =\n",
              "        document.querySelector('#df-1344d4f4-4317-4009-94d4-aedc552c8954 button');\n",
              "      quickchartButtonEl.style.display =\n",
              "        google.colab.kernel.accessAllowed ? 'block' : 'none';\n",
              "    })();\n",
              "  </script>\n",
              "</div>\n",
              "\n",
              "    </div>\n",
              "  </div>\n"
            ],
            "application/vnd.google.colaboratory.intrinsic+json": {
              "type": "dataframe",
              "summary": "{\n  \"name\": \"merged_xG\",\n  \"rows\": 8,\n  \"fields\": [\n    {\n      \"column\": \"xG\",\n      \"properties\": {\n        \"dtype\": \"number\",\n        \"std\": 119512.99483231203,\n        \"min\": 0.0,\n        \"max\": 338034.0,\n        \"num_unique_values\": 8,\n        \"samples\": [\n          0.11055614737107072,\n          0.0508618708699941,\n          338034.0\n        ],\n        \"semantic_type\": \"\",\n        \"description\": \"\"\n      }\n    },\n    {\n      \"column\": \"RF_predicted_xG\",\n      \"properties\": {\n        \"dtype\": \"number\",\n        \"std\": 119512.98175601417,\n        \"min\": 0.0,\n        \"max\": 338034.0,\n        \"num_unique_values\": 8,\n        \"samples\": [\n          0.1675340720164244,\n          0.07,\n          338034.0\n        ],\n        \"semantic_type\": \"\",\n        \"description\": \"\"\n      }\n    },\n    {\n      \"column\": \"CatBoost_predicted_xG\",\n      \"properties\": {\n        \"dtype\": \"number\",\n        \"std\": 119512.98628338319,\n        \"min\": 0.00011227711545162256,\n        \"max\": 338034.0,\n        \"num_unique_values\": 8,\n        \"samples\": [\n          0.1410350159905794,\n          0.0797259744885683,\n          338034.0\n        ],\n        \"semantic_type\": \"\",\n        \"description\": \"\"\n      }\n    },\n    {\n      \"column\": \"XGBoost_predicted_xG\",\n      \"properties\": {\n        \"dtype\": \"number\",\n        \"std\": 119512.9663241252,\n        \"min\": 0.0013212161138653755,\n        \"max\": 338034.0,\n        \"num_unique_values\": 8,\n        \"samples\": [\n          0.23001699149608612,\n          0.14646164327859879,\n          338034.0\n        ],\n        \"semantic_type\": \"\",\n        \"description\": \"\"\n      }\n    },\n    {\n      \"column\": \"LGBM_predicted_xG\",\n      \"properties\": {\n        \"dtype\": \"number\",\n        \"std\": 119512.96224691457,\n        \"min\": 0.009525123872674603,\n        \"max\": 338034.0,\n        \"num_unique_values\": 8,\n        \"samples\": [\n          0.24819643983850212,\n          0.16420470522048175,\n          338034.0\n        ],\n        \"semantic_type\": \"\",\n        \"description\": \"\"\n      }\n    },\n    {\n      \"column\": \"RF_xG_difference\",\n      \"properties\": {\n        \"dtype\": \"number\",\n        \"std\": 119513.04175874886,\n        \"min\": -0.7808695769309998,\n        \"max\": 338034.0,\n        \"num_unique_values\": 8,\n        \"samples\": [\n          0.05697792464535368,\n          0.007929504588246398,\n          338034.0\n        ],\n        \"semantic_type\": \"\",\n        \"description\": \"\"\n      }\n    },\n    {\n      \"column\": \"CatBoost_xG_difference\",\n      \"properties\": {\n        \"dtype\": \"number\",\n        \"std\": 119513.04665229976,\n        \"min\": -0.7188990263057081,\n        \"max\": 338034.0,\n        \"num_unique_values\": 8,\n        \"samples\": [\n          0.030478868619508753,\n          0.020885896886130094,\n          338034.0\n        ],\n        \"semantic_type\": \"\",\n        \"description\": \"\"\n      }\n    },\n    {\n      \"column\": \"XGBoost_xG_difference\",\n      \"properties\": {\n        \"dtype\": \"number\",\n        \"std\": 119513.02828980166,\n        \"min\": -0.7310591340065002,\n        \"max\": 338034.0,\n        \"num_unique_values\": 8,\n        \"samples\": [\n          0.11946088938935258,\n          0.07858955301344402,\n          338034.0\n        ],\n        \"semantic_type\": \"\",\n        \"description\": \"\"\n      }\n    },\n    {\n      \"column\": \"LGBM_xG_difference\",\n      \"properties\": {\n        \"dtype\": \"number\",\n        \"std\": 119513.02016480919,\n        \"min\": -0.6364741439700636,\n        \"max\": 338034.0,\n        \"num_unique_values\": 8,\n        \"samples\": [\n          0.13764029246743142,\n          0.09667981092334672,\n          338034.0\n        ],\n        \"semantic_type\": \"\",\n        \"description\": \"\"\n      }\n    }\n  ]\n}"
            }
          },
          "metadata": {},
          "execution_count": 75
        }
      ]
    },
    {
      "cell_type": "code",
      "source": [
        "#len(xG)\n",
        "#len(X)\n",
        "#len(rf_predicted_xG)"
      ],
      "metadata": {
        "colab": {
          "base_uri": "https://localhost:8080/"
        },
        "id": "tuEeNzT-gPIH",
        "outputId": "ba1b27f4-93af-44f2-fcff-ce888b74211d"
      },
      "execution_count": 61,
      "outputs": [
        {
          "output_type": "execute_result",
          "data": {
            "text/plain": [
              "338034"
            ]
          },
          "metadata": {},
          "execution_count": 61
        }
      ]
    },
    {
      "cell_type": "code",
      "execution_count": 77,
      "metadata": {
        "id": "XvsfzIeiKmYx"
      },
      "outputs": [],
      "source": [
        "# Save the merged_xG DataFrame to a CSV file\n",
        "merged_xG.to_csv('merged_xG.csv', index=False)\n"
      ]
    },
    {
      "cell_type": "code",
      "execution_count": 78,
      "metadata": {
        "colab": {
          "base_uri": "https://localhost:8080/",
          "height": 17
        },
        "id": "CHqXGsNBLETS",
        "outputId": "f418c7cf-2afe-477e-fa14-9bc2593b652d"
      },
      "outputs": [
        {
          "output_type": "display_data",
          "data": {
            "text/plain": [
              "<IPython.core.display.Javascript object>"
            ],
            "application/javascript": [
              "\n",
              "    async function download(id, filename, size) {\n",
              "      if (!google.colab.kernel.accessAllowed) {\n",
              "        return;\n",
              "      }\n",
              "      const div = document.createElement('div');\n",
              "      const label = document.createElement('label');\n",
              "      label.textContent = `Downloading \"${filename}\": `;\n",
              "      div.appendChild(label);\n",
              "      const progress = document.createElement('progress');\n",
              "      progress.max = size;\n",
              "      div.appendChild(progress);\n",
              "      document.body.appendChild(div);\n",
              "\n",
              "      const buffers = [];\n",
              "      let downloaded = 0;\n",
              "\n",
              "      const channel = await google.colab.kernel.comms.open(id);\n",
              "      // Send a message to notify the kernel that we're ready.\n",
              "      channel.send({})\n",
              "\n",
              "      for await (const message of channel.messages) {\n",
              "        // Send a message to notify the kernel that we're ready.\n",
              "        channel.send({})\n",
              "        if (message.buffers) {\n",
              "          for (const buffer of message.buffers) {\n",
              "            buffers.push(buffer);\n",
              "            downloaded += buffer.byteLength;\n",
              "            progress.value = downloaded;\n",
              "          }\n",
              "        }\n",
              "      }\n",
              "      const blob = new Blob(buffers, {type: 'application/binary'});\n",
              "      const a = document.createElement('a');\n",
              "      a.href = window.URL.createObjectURL(blob);\n",
              "      a.download = filename;\n",
              "      div.appendChild(a);\n",
              "      a.click();\n",
              "      div.remove();\n",
              "    }\n",
              "  "
            ]
          },
          "metadata": {}
        },
        {
          "output_type": "display_data",
          "data": {
            "text/plain": [
              "<IPython.core.display.Javascript object>"
            ],
            "application/javascript": [
              "download(\"download_937ac928-fa16-436a-bd12-dd402f920616\", \"merged_xG.csv\", 52521987)"
            ]
          },
          "metadata": {}
        }
      ],
      "source": [
        "from google.colab import files\n",
        "files.download('merged_xG.csv')\n"
      ]
    }
  ],
  "metadata": {
    "accelerator": "GPU",
    "colab": {
      "gpuType": "T4",
      "provenance": []
    },
    "kernelspec": {
      "display_name": "Python 3",
      "name": "python3"
    },
    "language_info": {
      "name": "python"
    }
  },
  "nbformat": 4,
  "nbformat_minor": 0
}