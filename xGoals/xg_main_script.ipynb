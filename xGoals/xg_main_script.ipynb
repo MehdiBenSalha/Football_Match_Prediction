{
 "metadata": {
  "kernelspec": {
   "language": "python",
   "display_name": "Python 3",
   "name": "python3"
  },
  "language_info": {
   "name": "python",
   "version": "3.10.13",
   "mimetype": "text/x-python",
   "codemirror_mode": {
    "name": "ipython",
    "version": 3
   },
   "pygments_lexer": "ipython3",
   "nbconvert_exporter": "python",
   "file_extension": ".py"
  },
  "kaggle": {
   "accelerator": "none",
   "dataSources": [
    {
     "sourceId": 8274905,
     "sourceType": "datasetVersion",
     "datasetId": 4913574
    },
    {
     "sourceId": 8288289,
     "sourceType": "datasetVersion",
     "datasetId": 4923107
    },
    {
     "sourceId": 42774,
     "sourceType": "modelInstanceVersion",
     "modelInstanceId": 35934
    }
   ],
   "dockerImageVersionId": 30699,
   "isInternetEnabled": true,
   "language": "python",
   "sourceType": "notebook",
   "isGpuEnabled": false
  }
 },
 "nbformat_minor": 4,
 "nbformat": 4,
 "cells": [
  {
   "cell_type": "code",
   "source": [
    "# import os\n",
    "# l=os.listdir(\"/kaggle/input/data-shots/final\")\n",
    "# l\n",
    "# path=\"/kaggle/input/data-shots/final/\"\n",
    "# pathsave=\"/kaggle/working/\"\n",
    "# def get_file(name):\n",
    "#     print(\"*\")\n",
    "#     df=pd.read_csv(path+name)\n",
    "#     for index,row in df.iterrows():\n",
    "#         matchid=row[\"matchId\"]\n",
    "#         url=f\"https://www.fotmob.com/api/matchDetails?matchId={matchid}\"\n",
    "#         response = requests.get(url).json()\n",
    "\n",
    "#         awayId=response[\"general\"][\"awayTeam\"][\"id\"]\n",
    "#         homeId=response[\"general\"][\"homeTeam\"][\"id\"]\n",
    "\n",
    "#         df.at[index,\"homeId\"]=homeId\n",
    "#         df.at[index,\"awayId\"]=awayId\n",
    "        \n",
    "\n",
    "#     df.to_csv(pathsave+name,index=False,encoding='utf-8-sig')\n",
    "#     print(f\"file{name} done\")"
   ],
   "metadata": {
    "_uuid": "8f2839f25d086af736a60e9eeb907d3b93b6e0e5",
    "_cell_guid": "b1076dfc-b9ad-4769-8c92-a6c4dae69d19",
    "trusted": true
   },
   "execution_count": null,
   "outputs": []
  },
  {
   "cell_type": "code",
   "source": [
    "# import warnings\n",
    "\n",
    "# warnings.filterwarnings('ignore')\n",
    "# import requests\n"
   ],
   "metadata": {
    "trusted": true
   },
   "execution_count": null,
   "outputs": []
  },
  {
   "cell_type": "code",
   "source": [
    "# from joblib import Parallel, delayed\n",
    "# import pandas as pd\n",
    "# Parallel(n_jobs=32)(delayed(get_file)(file) for file in l)\n"
   ],
   "metadata": {
    "trusted": true
   },
   "execution_count": null,
   "outputs": []
  },
  {
   "cell_type": "code",
   "source": [
    "# import os\n",
    "# import shutil\n",
    "\n",
    "# l=os.listdir(\"/kaggle/working/\")\n",
    "# ll=[i for i in l if i.endswith(\".csv\")]\n",
    "# for i in ll:\n",
    "#     shutil.move(f\"/kaggle/working/{i}\",f\"/kaggle/working/data+id\")"
   ],
   "metadata": {
    "trusted": true
   },
   "execution_count": null,
   "outputs": []
  },
  {
   "cell_type": "code",
   "source": [
    "# os.mkdir(\"/kaggle/working/shots\")"
   ],
   "metadata": {
    "trusted": true
   },
   "execution_count": null,
   "outputs": []
  },
  {
   "cell_type": "code",
   "source": [
    "# from joblib import Parallel, delayed\n",
    "# import pandas as pd\n",
    "# import os\n",
    "# import ast\n",
    "# import warnings\n",
    "\n",
    "# warnings.filterwarnings('ignore')\n",
    "\n",
    "# files = os.listdir('/kaggle/working/data+id')"
   ],
   "metadata": {
    "trusted": true
   },
   "execution_count": null,
   "outputs": []
  },
  {
   "cell_type": "code",
   "source": [
    "# def process_shots(filename):\n",
    "#     try:\n",
    "#         # read the file\n",
    "#         print('Processing:', filename)\n",
    "#         df = pd.read_csv(f'/kaggle/working/data+id/{filename}')\n",
    "#         matches_shots = df['shots']\n",
    "#         # convert the string to a list\n",
    "#         matches_shots =   matches_shots.apply(ast.literal_eval)\n",
    "#         # shots is a list of dictionaries, each dictionary is a shot\n",
    "#         # convert the list of dictionaries to a dataframe\n",
    "#         shots_df = pd.DataFrame()\n",
    "#         warnings.filterwarnings('ignore')\n",
    "#         for shot, i in zip(matches_shots, range(len(matches_shots))):\n",
    "#             try:\n",
    "#                 # get matchId \n",
    "#                 matchId = df['matchId'][i]\n",
    "#                 # add the matchId to the dictionary\n",
    "#                 new_shot = shot.copy()\n",
    "#                 match_shots = pd.DataFrame(new_shot)\n",
    "#                 match_shots['matchId'] = int(matchId)\n",
    "#                 shots_df = pd.concat([shots_df, match_shots])\n",
    "#             except:\n",
    "#                 print(f\"Error {filename} while processing match shots for {matchId}\")\n",
    "#     except:\n",
    "#         print(f\"Error {filename} while processing league\")\n",
    "\n",
    "                \n",
    "#     print(f'Processed {shots_df.shape[0]}')\n",
    "#     # write the dataframe to a csv file with the same name as the original file starting with shots_\n",
    "#     shots_df.to_csv(f'/kaggle/working/shots/shots_{filename}', index=False)"
   ],
   "metadata": {
    "execution": {
     "iopub.status.busy": "2024-05-02T20:26:24.051542Z",
     "iopub.execute_input": "2024-05-02T20:26:24.052017Z",
     "iopub.status.idle": "2024-05-02T20:26:24.060643Z",
     "shell.execute_reply.started": "2024-05-02T20:26:24.051979Z",
     "shell.execute_reply": "2024-05-02T20:26:24.059401Z"
    },
    "trusted": true
   },
   "execution_count": null,
   "outputs": []
  },
  {
   "cell_type": "code",
   "source": [
    "# def process_all_data():\n",
    "#     Parallel(n_jobs=64)(delayed(process_shots)(file) for file in files)"
   ],
   "metadata": {
    "execution": {
     "iopub.status.busy": "2024-05-02T19:49:37.856444Z",
     "iopub.status.idle": "2024-05-02T19:49:37.856925Z",
     "shell.execute_reply.started": "2024-05-02T19:49:37.856709Z",
     "shell.execute_reply": "2024-05-02T19:49:37.856728Z"
    },
    "trusted": true
   },
   "execution_count": null,
   "outputs": []
  },
  {
   "cell_type": "code",
   "source": [
    "# process_all_data()"
   ],
   "metadata": {
    "execution": {
     "iopub.status.busy": "2024-05-02T19:49:37.885350Z",
     "iopub.status.idle": "2024-05-02T19:49:37.886081Z",
     "shell.execute_reply.started": "2024-05-02T19:49:37.885732Z",
     "shell.execute_reply": "2024-05-02T19:49:37.885763Z"
    },
    "trusted": true
   },
   "execution_count": null,
   "outputs": []
  },
  {
   "cell_type": "code",
   "source": [
    "from joblib import Parallel, delayed\n",
    "import pandas as pd\n",
    "import os\n",
    "import ast\n",
    "import warnings\n",
    "\n",
    "warnings.filterwarnings('ignore')"
   ],
   "metadata": {
    "execution": {
     "iopub.status.busy": "2024-05-03T02:05:03.136461Z",
     "iopub.execute_input": "2024-05-03T02:05:03.136914Z",
     "iopub.status.idle": "2024-05-03T02:05:03.144222Z",
     "shell.execute_reply.started": "2024-05-03T02:05:03.136879Z",
     "shell.execute_reply": "2024-05-03T02:05:03.142822Z"
    },
    "trusted": true
   },
   "execution_count": 79,
   "outputs": []
  },
  {
   "cell_type": "code",
   "source": [
    "\n",
    "files = os.listdir('/kaggle/input/shots/kaggle/working/shots')\n",
    "files = [f for f in files if f[-3:] == 'csv' and f != 'shots_ds.csv']\n",
    "\n",
    "data = pd.DataFrame()\n",
    "for file in files:\n",
    "    \n",
    "#     print(file)\n",
    "    file_data = pd.read_csv('/kaggle/input/shots/kaggle/working/shots/'+file)\n",
    "    data = pd.concat([data, file_data])\n",
    "\n",
    "data.to_csv('/kaggle/working/all_shots.csv')"
   ],
   "metadata": {
    "execution": {
     "iopub.status.busy": "2024-05-03T02:05:03.146066Z",
     "iopub.execute_input": "2024-05-03T02:05:03.146439Z",
     "iopub.status.idle": "2024-05-03T02:05:38.496697Z",
     "shell.execute_reply.started": "2024-05-03T02:05:03.146402Z",
     "shell.execute_reply": "2024-05-03T02:05:38.495303Z"
    },
    "trusted": true
   },
   "execution_count": 80,
   "outputs": []
  },
  {
   "cell_type": "code",
   "source": [
    "# data.shape"
   ],
   "metadata": {
    "execution": {
     "iopub.status.busy": "2024-05-02T19:52:57.754275Z",
     "iopub.execute_input": "2024-05-02T19:52:57.754695Z",
     "iopub.status.idle": "2024-05-02T19:52:57.764327Z",
     "shell.execute_reply.started": "2024-05-02T19:52:57.754664Z",
     "shell.execute_reply": "2024-05-02T19:52:57.763185Z"
    },
    "trusted": true
   },
   "execution_count": null,
   "outputs": []
  },
  {
   "cell_type": "code",
   "source": [
    "import pandas as pd\n",
    "import numpy as np\n",
    "from sklearn.model_selection import train_test_split\n",
    "from catboost import Pool\n",
    "from sklearn.ensemble import RandomForestClassifier, AdaBoostClassifier\n",
    "from catboost import CatBoostClassifier\n",
    "from xgboost import XGBClassifier\n",
    "from lightgbm import LGBMClassifier\n",
    "from imblearn.over_sampling import SMOTE\n",
    "from sklearn.metrics import mean_squared_error\n",
    "from sklearn.preprocessing import LabelEncoder"
   ],
   "metadata": {
    "execution": {
     "iopub.status.busy": "2024-05-03T02:05:38.499579Z",
     "iopub.execute_input": "2024-05-03T02:05:38.499988Z",
     "iopub.status.idle": "2024-05-03T02:05:38.507253Z",
     "shell.execute_reply.started": "2024-05-03T02:05:38.499957Z",
     "shell.execute_reply": "2024-05-03T02:05:38.505880Z"
    },
    "trusted": true
   },
   "execution_count": 81,
   "outputs": []
  },
  {
   "cell_type": "code",
   "source": [
    "# Load the CSV file into a Pandas DataFrame\n",
    "df = pd.read_csv('/kaggle/working/all_shots.csv')"
   ],
   "metadata": {
    "execution": {
     "iopub.status.busy": "2024-05-03T02:57:51.050809Z",
     "iopub.execute_input": "2024-05-03T02:57:51.051265Z",
     "iopub.status.idle": "2024-05-03T02:57:57.067842Z",
     "shell.execute_reply.started": "2024-05-03T02:57:51.051234Z",
     "shell.execute_reply": "2024-05-03T02:57:57.066562Z"
    },
    "trusted": true
   },
   "execution_count": 116,
   "outputs": []
  },
  {
   "cell_type": "code",
   "source": [
    "# # Get the unique eventType values from the DataFrame\n",
    "# unique_event_types = df['eventType'].unique()\n",
    "\n",
    "# # Print the unique eventType values\n",
    "# print(unique_event_types)\n"
   ],
   "metadata": {
    "execution": {
     "iopub.status.busy": "2024-05-02T19:53:47.079423Z",
     "iopub.execute_input": "2024-05-02T19:53:47.079945Z",
     "iopub.status.idle": "2024-05-02T19:53:47.149056Z",
     "shell.execute_reply.started": "2024-05-02T19:53:47.079914Z",
     "shell.execute_reply": "2024-05-02T19:53:47.147899Z"
    },
    "trusted": true
   },
   "execution_count": null,
   "outputs": []
  },
  {
   "cell_type": "code",
   "source": [
    "def preprocess(df, xg):\n",
    "    # Keep only the desired columns\n",
    "    if not xg:\n",
    "        desired_columns = ['min', 'x', 'y', 'situation', 'shotType', 'eventType','isBlocked','isOnTarget','isSavedOffLine']\n",
    "    else:\n",
    "        desired_columns = ['min', 'x', 'y', 'situation', 'shotType', 'eventType', 'expectedGoals','isBlocked','isOnTarget','isSavedOffLine']\n",
    "\n",
    "    df_subset = df[desired_columns].copy()  # Use copy() here\n",
    "\n",
    "    # Replace values in the 'result' column\n",
    "    df_subset.loc[:, 'eventType'] = df_subset['eventType'].replace({'Miss':0, 'AttemptSaved':0, 'Goal':1, 'Post':0})\n",
    "\n",
    "    # Convert the 'result' column to integers\n",
    "    df_subset['eventType'] = df_subset['eventType'].astype(int)\n",
    "\n",
    "    # Drop rows with NaN values in any column\n",
    "    df_subset = df_subset.dropna()\n",
    "\n",
    "    return df_subset\n"
   ],
   "metadata": {
    "execution": {
     "iopub.status.busy": "2024-05-03T02:05:38.508908Z",
     "iopub.execute_input": "2024-05-03T02:05:38.509325Z",
     "iopub.status.idle": "2024-05-03T02:05:38.522013Z",
     "shell.execute_reply.started": "2024-05-03T02:05:38.509292Z",
     "shell.execute_reply": "2024-05-03T02:05:38.520770Z"
    },
    "trusted": true
   },
   "execution_count": 82,
   "outputs": []
  },
  {
   "cell_type": "code",
   "source": [
    "def feature_engineering(df, catboost):\n",
    "    # Make a copy of the DataFrame to avoid modifying the original\n",
    "    df_copy = df.copy()\n",
    "\n",
    "    # Drop rows with missing values\n",
    "    df_copy = df_copy.dropna()\n",
    "\n",
    "    # Define a function to calculate XDTGi (Distance To Goal)\n",
    "    def calculate_XDTGi(X, Y):\n",
    "        return np.sqrt((105 - X)**2 + (32.5 - Y)**2)\n",
    "\n",
    "    # Define a function to calculate XATGi (Angle To Goal)\n",
    "    def calculate_XATGi(X, Y):\n",
    "        ai = np.arctan(7.32 * (105 - X))\n",
    "        bi = ((105 - X)**2 + (32.5 - Y)**2 - (7.32/2)**2)\n",
    "        return np.abs((ai / bi) * (180 / np.pi))\n",
    "\n",
    "    # Define a function to categorize y values\n",
    "    def categorize_y(y_value):\n",
    "        if y_value <= 27.2:\n",
    "            return \"right\"\n",
    "        elif y_value <= 40.8:\n",
    "            return \"middle\"\n",
    "        else:\n",
    "            return \"left\"\n",
    "\n",
    "    # Define a function to determine foot shot\n",
    "    def determine_foot_shot(row):\n",
    "        if row['position'] == 'right' and row['shotType'] == 'LeftFoot':\n",
    "            return 1\n",
    "        elif row['position'] == 'left' and row['shotType'] == 'RightFoot':\n",
    "            return 1\n",
    "        elif row['position'] == 'middle':\n",
    "            return 1\n",
    "        else:\n",
    "            return 0\n",
    "\n",
    "    # Apply the functions to the dataset using .loc on the copy\n",
    "    df_copy.loc[:, 'XDTGi'] = calculate_XDTGi(df_copy['x'], df_copy['y'])\n",
    "    df_copy.loc[:, 'XATGi'] = calculate_XATGi(df_copy['x'], df_copy['y'])\n",
    "\n",
    "    # Add the categorical feature y_category\n",
    "    df_copy['position'] = df_copy['y'].apply(lambda y: categorize_y(y))\n",
    "\n",
    "    # Add the new column footShot\n",
    "    df_copy['footShot'] = df_copy.apply(determine_foot_shot, axis=1)\n",
    "\n",
    "    # Apply label encoding to object type columns if not using CatBoost\n",
    "    if (not catboost):\n",
    "        label_encoder = LabelEncoder()\n",
    "        for column in df_copy.columns:\n",
    "            if df_copy[column].dtype == 'object':\n",
    "                df_copy[column] = label_encoder.fit_transform(df_copy[column])\n",
    "\n",
    "    return df_copy\n",
    "\n",
    "#df_subset_regular = feature_engineering(df_subset, False)\n",
    "#print(df_subset_regular.dtypes)\n"
   ],
   "metadata": {
    "execution": {
     "iopub.status.busy": "2024-05-03T02:05:38.524037Z",
     "iopub.execute_input": "2024-05-03T02:05:38.524547Z",
     "iopub.status.idle": "2024-05-03T02:05:38.541449Z",
     "shell.execute_reply.started": "2024-05-03T02:05:38.524508Z",
     "shell.execute_reply": "2024-05-03T02:05:38.539991Z"
    },
    "trusted": true
   },
   "execution_count": 83,
   "outputs": []
  },
  {
   "cell_type": "code",
   "source": [
    "df_subset=preprocess(df,False)\n",
    "print(df_subset.head())"
   ],
   "metadata": {
    "execution": {
     "iopub.status.busy": "2024-05-03T02:19:54.634553Z",
     "iopub.execute_input": "2024-05-03T02:19:54.634986Z",
     "iopub.status.idle": "2024-05-03T02:19:55.526014Z",
     "shell.execute_reply.started": "2024-05-03T02:19:54.634955Z",
     "shell.execute_reply": "2024-05-03T02:19:55.524710Z"
    },
    "trusted": true
   },
   "execution_count": 86,
   "outputs": [
    {
     "name": "stdout",
     "text": "   min           x          y    situation   shotType  eventType  isBlocked  \\\n0    5   84.850000  21.617070  RegularPlay   LeftFoot          0      False   \n1   16  101.491379  21.827261  RegularPlay  RightFoot          0      False   \n2   21   83.949029  42.870937  RegularPlay   LeftFoot          0      False   \n3   25   90.300000  23.859108  RegularPlay   LeftFoot          0      False   \n4   28  101.965517  16.502420  RegularPlay   LeftFoot          0      False   \n\n   isOnTarget  isSavedOffLine  \n0       False           False  \n1       False           False  \n2        True           False  \n3       False           False  \n4        True            True  \n",
     "output_type": "stream"
    }
   ]
  },
  {
   "cell_type": "code",
   "source": [
    "df_subset_regular=feature_engineering(df_subset,False)\n",
    "df_subset_catboost=feature_engineering(df_subset,True)\n"
   ],
   "metadata": {
    "execution": {
     "iopub.status.busy": "2024-05-03T02:19:56.934025Z",
     "iopub.execute_input": "2024-05-03T02:19:56.935143Z",
     "iopub.status.idle": "2024-05-03T02:20:31.697355Z",
     "shell.execute_reply.started": "2024-05-03T02:19:56.935100Z",
     "shell.execute_reply": "2024-05-03T02:20:31.695866Z"
    },
    "trusted": true
   },
   "execution_count": 87,
   "outputs": []
  },
  {
   "cell_type": "code",
   "source": [
    "# #dataset after preprocessing & feature_engineering\n",
    "# print(\"First few rows of the dataset:\")\n",
    "# print((df_subset.head()))\n",
    "# print(\"summary about the dataset after preprocessing & feature_engineering\")\n",
    "# print(df_subset.describe())\n",
    "\n",
    "# # Check for missing values in the entire dataset\n",
    "# print(\"Missing values per column:\")\n",
    "# print(df_subset.isna().sum())"
   ],
   "metadata": {
    "execution": {
     "iopub.status.busy": "2024-05-02T19:54:33.057742Z",
     "iopub.execute_input": "2024-05-02T19:54:33.058239Z",
     "iopub.status.idle": "2024-05-02T19:54:33.326257Z",
     "shell.execute_reply.started": "2024-05-02T19:54:33.058197Z",
     "shell.execute_reply": "2024-05-02T19:54:33.325004Z"
    },
    "trusted": true
   },
   "execution_count": null,
   "outputs": []
  },
  {
   "cell_type": "code",
   "source": [
    "# Define the features and target variable\n",
    "X = df_subset_regular.drop('eventType', axis=1)  # Features\n",
    "X_catboost=df_subset_catboost.drop('eventType', axis=1)\n",
    "y = df_subset['eventType']  # Target variable\n",
    "\n",
    "# Split the dataset into training and testing sets\n",
    "X_train, X_test, y_train, y_test = train_test_split(X, y, test_size=0.2, random_state=42)\n",
    "X_train_catboost, X_test_catboost, y_train_catboost, y_test_catboost = train_test_split(X_catboost, y, test_size=0.2, random_state=42,stratify = y.values)\n"
   ],
   "metadata": {
    "execution": {
     "iopub.status.busy": "2024-05-03T02:20:31.699588Z",
     "iopub.execute_input": "2024-05-03T02:20:31.700013Z",
     "iopub.status.idle": "2024-05-03T02:20:32.550178Z",
     "shell.execute_reply.started": "2024-05-03T02:20:31.699980Z",
     "shell.execute_reply": "2024-05-03T02:20:32.548950Z"
    },
    "trusted": true
   },
   "execution_count": 88,
   "outputs": []
  },
  {
   "cell_type": "code",
   "source": [
    "y_test_catboost.value_counts().plot.pie(autopct='%1.1f%%',textprops={'fontsize': 14})\n"
   ],
   "metadata": {
    "execution": {
     "iopub.status.busy": "2024-05-03T02:20:32.551484Z",
     "iopub.execute_input": "2024-05-03T02:20:32.552872Z",
     "iopub.status.idle": "2024-05-03T02:20:32.785221Z",
     "shell.execute_reply.started": "2024-05-03T02:20:32.552798Z",
     "shell.execute_reply": "2024-05-03T02:20:32.784021Z"
    },
    "trusted": true
   },
   "execution_count": 89,
   "outputs": [
    {
     "execution_count": 89,
     "output_type": "execute_result",
     "data": {
      "text/plain": "<Axes: ylabel='count'>"
     },
     "metadata": {}
    },
    {
     "output_type": "display_data",
     "data": {
      "text/plain": "<Figure size 640x480 with 1 Axes>",
      "image/png": "[encoded data removed]"
     },
     "metadata": {}
    }
   ]
  },
  {
   "cell_type": "code",
   "source": [
    "# from sklearn.utils import compute_class_weight\n",
    "# class_weights = compute_class_weight('balanced', classes=np.unique(y_train_catboost), y= y_train_catboost)\n",
    "# class_weights_dict = {i: weight for i, weight in enumerate(class_weights)}"
   ],
   "metadata": {
    "execution": {
     "iopub.status.busy": "2024-05-02T19:54:41.808270Z",
     "iopub.execute_input": "2024-05-02T19:54:41.808682Z",
     "iopub.status.idle": "2024-05-02T19:54:41.931304Z",
     "shell.execute_reply.started": "2024-05-02T19:54:41.808651Z",
     "shell.execute_reply": "2024-05-02T19:54:41.930134Z"
    },
    "trusted": true
   },
   "execution_count": null,
   "outputs": []
  },
  {
   "cell_type": "code",
   "source": [
    "# class_weights_dict"
   ],
   "metadata": {
    "execution": {
     "iopub.status.busy": "2024-05-02T19:54:41.977079Z",
     "iopub.execute_input": "2024-05-02T19:54:41.977826Z",
     "iopub.status.idle": "2024-05-02T19:54:41.984890Z",
     "shell.execute_reply.started": "2024-05-02T19:54:41.977791Z",
     "shell.execute_reply": "2024-05-02T19:54:41.983618Z"
    },
    "trusted": true
   },
   "execution_count": null,
   "outputs": []
  },
  {
   "cell_type": "code",
   "source": [
    "# #Balancing the train dataset\n",
    "# # Initialize SMOTE\n",
    "# smote = SMOTE(random_state=42)\n",
    "\n",
    "# # Apply SMOTE to the labels\n",
    "# X_train_balanced, y_train_balanced = smote.fit_resample(X_train, y_train)\n",
    "# # Apply SMOTE to balance the classes\n",
    "# smote = SMOTE(random_state=42)\n",
    "# X_train_balanced, y_train_balanced = smote.fit_resample(X_train, y_train)\n"
   ],
   "metadata": {
    "trusted": true
   },
   "execution_count": null,
   "outputs": []
  },
  {
   "cell_type": "code",
   "source": [
    "# # Initialize models\n",
    "# rf_model = RandomForestClassifier()\n",
    "# catboost_model = CatBoostClassifier()\n",
    "# xgboost_model = XGBClassifier()\n",
    "# lgbm_model = LGBMClassifier()\n",
    "# adaboost_model = AdaBoostClassifier()\n",
    "\n",
    "# # Train models\n",
    "# rf_model.fit(X_train_balanced, y_train_balanced)\n",
    "# catboost_model.fit(train_pool)\n",
    "# xgboost_model.fit(X_train_balanced, y_train_balanced)\n",
    "# lgbm_model.fit(X_train_balanced, y_train_balanced)\n",
    "# adaboost_model.fit(X_train_balanced, y_train_balanced)\n",
    "\n",
    "# # Predict probabilities using trained models\n",
    "# rf_probabilities = rf_model.predict_proba(X_test)\n",
    "# catboost_probabilities = catboost_model.predict_proba(test_pool)\n",
    "# xgboost_probabilities = xgboost_model.predict_proba(X_test)\n",
    "# lgbm_probabilities = lgbm_model.predict_proba(X_test)\n",
    "# adaboost_probabilities = adaboost_model.predict_proba(X_test)"
   ],
   "metadata": {
    "execution": {
     "iopub.status.busy": "2024-05-02T19:49:40.092664Z",
     "iopub.status.idle": "2024-05-02T19:49:40.093131Z",
     "shell.execute_reply.started": "2024-05-02T19:49:40.092919Z",
     "shell.execute_reply": "2024-05-02T19:49:40.092936Z"
    },
    "trusted": true
   },
   "execution_count": null,
   "outputs": []
  },
  {
   "cell_type": "code",
   "source": [
    "# # Evaluate models (using validation data or cross-validation)\n",
    "\n",
    "# (X_val, y_val)=(X_test,y_test)\n",
    "\n",
    "# # Evaluate RandomForestClassifier\n",
    "# rf_accuracy = rf_model.score(X_val, y_val)\n",
    "# # Evaluate CatBoostClassifier\n",
    "# catboost_accuracy = catboost_model.score(test_pool)\n",
    "# # Evaluate XGBClassifier\n",
    "# xgboost_accuracy = xgboost_model.score(X_val, y_val)\n",
    "# # Evaluate LGBMClassifier\n",
    "# lgbm_accuracy = lgbm_model.score(X_val, y_val)\n",
    "# # Evaluate AdaBoostClassifier\n",
    "# adaboost_accuracy = adaboost_model.score(X_val, y_val)\n",
    "\n",
    "# # Print model accuracies\n",
    "# print(\"RandomForestClassifier Accuracy:\", rf_accuracy)\n",
    "# print(\"CatBoostClassifier Accuracy:\", catboost_accuracy)\n",
    "# print(\"XGBClassifier Accuracy:\", xgboost_accuracy)\n",
    "# print(\"LGBMClassifier Accuracy:\", lgbm_accuracy)\n",
    "# print(\"AdaBoostClassifier Accuracy:\", adaboost_accuracy)\n"
   ],
   "metadata": {
    "trusted": true
   },
   "execution_count": null,
   "outputs": []
  },
  {
   "cell_type": "code",
   "source": [
    "# # Evaluate RandomForestClassifier\n",
    "# rf_mse = mean_squared_error(y_test, rf_probabilities[:, 1])\n",
    "# rf_error = 1 - rf_accuracy\n",
    "# print(\"RandomForestClassifier MSE:\", rf_mse)\n",
    "# print(\"RandomForestClassifier Error:\", rf_error)\n",
    "\n",
    "# # Evaluate CatBoostClassifier\n",
    "# catboost_mse = mean_squared_error(y_test, catboost_probabilities[:, 1])\n",
    "# catboost_error = 1 - catboost_accuracy\n",
    "# print(\"CatBoostClassifier MSE:\", catboost_mse)\n",
    "# print(\"CatBoostClassifier Error:\", catboost_error)\n",
    "\n",
    "# # Evaluate XGBClassifier\n",
    "# xgboost_mse = mean_squared_error(y_test, xgboost_probabilities[:, 1])\n",
    "# xgboost_error = 1 - xgboost_accuracy\n",
    "# print(\"XGBClassifier MSE:\", xgboost_mse)\n",
    "# print(\"XGBClassifier Error:\", xgboost_error)\n",
    "\n",
    "# # Evaluate LGBMClassifier\n",
    "# lgbm_mse = mean_squared_error(y_test, lgbm_probabilities[:, 1])\n",
    "# lgbm_error = 1 - lgbm_accuracy\n",
    "# print(\"LGBMClassifier MSE:\", lgbm_mse)\n",
    "# print(\"LGBMClassifier Error:\", lgbm_error)\n",
    "\n",
    "# # Evaluate AdaBoostClassifier\n",
    "# adaboost_mse = mean_squared_error(y_test, adaboost_probabilities[:,1])\n",
    "# adaboost_error = 1 - adaboost_accuracy\n",
    "# print(\"AdaBoostClassifier MSE:\", adaboost_mse)\n",
    "# print(\"AdaBoostClassifier Error:\", adaboost_error)\n"
   ],
   "metadata": {
    "execution": {
     "iopub.status.busy": "2024-05-02T19:49:40.706669Z",
     "iopub.status.idle": "2024-05-02T19:49:40.710859Z",
     "shell.execute_reply.started": "2024-05-02T19:49:40.710488Z",
     "shell.execute_reply": "2024-05-02T19:49:40.710528Z"
    },
    "trusted": true
   },
   "execution_count": null,
   "outputs": []
  },
  {
   "cell_type": "code",
   "source": [
    "# !zip -r data.zip /kaggle/working/data+id\n"
   ],
   "metadata": {
    "execution": {
     "iopub.status.busy": "2024-05-02T19:49:40.780566Z",
     "iopub.status.idle": "2024-05-02T19:49:40.840212Z",
     "shell.execute_reply.started": "2024-05-02T19:49:40.839887Z",
     "shell.execute_reply": "2024-05-02T19:49:40.839919Z"
    },
    "trusted": true
   },
   "execution_count": null,
   "outputs": []
  },
  {
   "cell_type": "code",
   "source": [
    "categorical_cols=[ 'situation', 'shotType','position']"
   ],
   "metadata": {
    "execution": {
     "iopub.status.busy": "2024-05-03T02:20:32.787796Z",
     "iopub.execute_input": "2024-05-03T02:20:32.788711Z",
     "iopub.status.idle": "2024-05-03T02:20:32.796473Z",
     "shell.execute_reply.started": "2024-05-03T02:20:32.788657Z",
     "shell.execute_reply": "2024-05-03T02:20:32.794524Z"
    },
    "trusted": true
   },
   "execution_count": 90,
   "outputs": []
  },
  {
   "cell_type": "code",
   "source": [
    "# from sklearn.model_selection import GridSearchCV\n",
    "# from sklearn.model_selection import StratifiedKFold\n",
    "# from catboost import CatBoostClassifier"
   ],
   "metadata": {
    "execution": {
     "iopub.status.busy": "2024-05-02T19:56:06.655603Z",
     "iopub.execute_input": "2024-05-02T19:56:06.655983Z",
     "iopub.status.idle": "2024-05-02T19:56:06.661889Z",
     "shell.execute_reply.started": "2024-05-02T19:56:06.655955Z",
     "shell.execute_reply": "2024-05-02T19:56:06.660600Z"
    },
    "trusted": true
   },
   "execution_count": null,
   "outputs": []
  },
  {
   "cell_type": "code",
   "source": [
    "import numpy as np\n",
    "import pandas as pd\n",
    "from sklearn.datasets import load_iris\n",
    "from sklearn.model_selection import train_test_split\n",
    "from catboost import CatBoostClassifier\n",
    "from sklearn.metrics import accuracy_score, precision_score, recall_score, f1_score, confusion_matrix\n",
    "\n",
    "\n",
    "def evaluation(model,x_train,x_test,y_train,y_test):\n",
    "    predictions = model.predict(x_test)\n",
    "    train_pred = model.predict(x_train)\n",
    "    accuracy = accuracy_score(y_test, predictions)\n",
    "    precision = precision_score(y_test, predictions, average='macro')\n",
    "    recall = recall_score(y_test, predictions, average='macro')\n",
    "    f1 = f1_score(y_test, predictions, average='macro')\n",
    "    conf_matrix = confusion_matrix(y_test, predictions)\n",
    "    train_accuracy = model.score(x_train , y_train)\n",
    "    train_f1 = f1_score(train_pred , y_train,average='macro')\n",
    "    print('Train:')\n",
    "    print(\"Accuracy:\", train_accuracy)\n",
    "    print(\"F1 Score:\", train_f1)\n",
    "    print(\"*\"*20)\n",
    "    print('Test:')\n",
    "    print(\"Accuracy:\", accuracy)\n",
    "    print(\"Precision:\", precision)\n",
    "    print(\"Recall:\", recall)\n",
    "    print(\"F1 Score:\", f1)\n",
    "    print(\"Confusion Matrix:\")\n",
    "    print(conf_matrix)"
   ],
   "metadata": {
    "execution": {
     "iopub.status.busy": "2024-05-03T02:20:49.327353Z",
     "iopub.execute_input": "2024-05-03T02:20:49.327841Z",
     "iopub.status.idle": "2024-05-03T02:20:49.490828Z",
     "shell.execute_reply.started": "2024-05-03T02:20:49.327805Z",
     "shell.execute_reply": "2024-05-03T02:20:49.489399Z"
    },
    "trusted": true
   },
   "execution_count": 91,
   "outputs": []
  },
  {
   "cell_type": "code",
   "source": [
    "import seaborn as sns\n",
    "import matplotlib.pyplot as plt\n",
    "from sklearn.metrics import mean_squared_error"
   ],
   "metadata": {
    "execution": {
     "iopub.status.busy": "2024-05-03T02:20:53.031814Z",
     "iopub.execute_input": "2024-05-03T02:20:53.033147Z",
     "iopub.status.idle": "2024-05-03T02:20:53.039400Z",
     "shell.execute_reply.started": "2024-05-03T02:20:53.033105Z",
     "shell.execute_reply": "2024-05-03T02:20:53.037986Z"
    },
    "trusted": true
   },
   "execution_count": 93,
   "outputs": []
  },
  {
   "cell_type": "code",
   "source": [
    "X=preprocess(df,True)\n",
    "XX=preprocess(df,False)\n",
    "XXX=feature_engineering(XX,True)\n",
    "X.dropna(inplace=True)\n",
    "XXX.drop([\"eventType\"],inplace=True,axis=1)"
   ],
   "metadata": {
    "execution": {
     "iopub.status.busy": "2024-05-03T02:20:53.417845Z",
     "iopub.execute_input": "2024-05-03T02:20:53.418291Z",
     "iopub.status.idle": "2024-05-03T02:21:12.635954Z",
     "shell.execute_reply.started": "2024-05-03T02:20:53.418257Z",
     "shell.execute_reply": "2024-05-03T02:21:12.634689Z"
    },
    "trusted": true
   },
   "execution_count": 94,
   "outputs": []
  },
  {
   "cell_type": "code",
   "source": [
    "def distribution(model):\n",
    "    pred=model.predict_proba(XXX)\n",
    "    p=pd.Series(pred[:,1])\n",
    "    ind=p.index\n",
    "    inter=ind.intersection(X.index)\n",
    "    xG=np.array(X.loc[inter][[\"expectedGoals\"]]).flatten()\n",
    "    a =  pd.DataFrame({'footmob_xg': xG, 'model_xg': p[inter]})\n",
    "    plt.figure()\n",
    "    sns.boxenplot(a)\n",
    "    plt.figure()\n",
    "    sns.histplot(a[a['footmob_xg']>0.1]['footmob_xg'],label='footmob_xg')\n",
    "    sns.histplot(a[a['model_xg']>0.1]['model_xg'],label='model_xg')\n",
    "    plt.legend()\n",
    "    plt.xlabel('Distribution > 0.1')\n",
    "    return xG , p[inter]"
   ],
   "metadata": {
    "execution": {
     "iopub.status.busy": "2024-05-03T02:21:12.638069Z",
     "iopub.execute_input": "2024-05-03T02:21:12.638450Z",
     "iopub.status.idle": "2024-05-03T02:21:12.648581Z",
     "shell.execute_reply.started": "2024-05-03T02:21:12.638419Z",
     "shell.execute_reply": "2024-05-03T02:21:12.647174Z"
    },
    "trusted": true
   },
   "execution_count": 95,
   "outputs": []
  },
  {
   "cell_type": "code",
   "source": [
    "footmob_predictions = X['expectedGoals']>0.5\n",
    "print(\"This is the used xg in other sites :\")\n",
    "print(f1_score(X['eventType'], footmob_predictions, average='macro'))"
   ],
   "metadata": {
    "execution": {
     "iopub.status.busy": "2024-05-03T02:21:12.650098Z",
     "iopub.execute_input": "2024-05-03T02:21:12.650525Z",
     "iopub.status.idle": "2024-05-03T02:21:12.942201Z",
     "shell.execute_reply.started": "2024-05-03T02:21:12.650484Z",
     "shell.execute_reply": "2024-05-03T02:21:12.940896Z"
    },
    "trusted": true
   },
   "execution_count": 96,
   "outputs": [
    {
     "name": "stdout",
     "text": "This is the used xg in other sites :\n0.6546439508146185\n",
     "output_type": "stream"
    }
   ]
  },
  {
   "cell_type": "code",
   "source": [
    "weights = {}\n",
    "weights[0] = 1.8\n",
    "weights[1] = 3.2"
   ],
   "metadata": {
    "execution": {
     "iopub.status.busy": "2024-05-03T02:21:12.945349Z",
     "iopub.execute_input": "2024-05-03T02:21:12.946341Z",
     "iopub.status.idle": "2024-05-03T02:21:12.951910Z",
     "shell.execute_reply.started": "2024-05-03T02:21:12.946291Z",
     "shell.execute_reply": "2024-05-03T02:21:12.950662Z"
    },
    "trusted": true
   },
   "execution_count": 97,
   "outputs": []
  },
  {
   "cell_type": "code",
   "source": [
    "model = CatBoostClassifier(cat_features=categorical_cols,class_weights=weights)\n",
    "model.fit(X_train_catboost,y_train_catboost)"
   ],
   "metadata": {
    "execution": {
     "iopub.status.busy": "2024-05-02T19:49:42.687430Z",
     "iopub.status.idle": "2024-05-02T19:49:42.687949Z",
     "shell.execute_reply.started": "2024-05-02T19:49:42.687731Z",
     "shell.execute_reply": "2024-05-02T19:49:42.687750Z"
    },
    "trusted": true
   },
   "execution_count": null,
   "outputs": []
  },
  {
   "cell_type": "code",
   "source": [
    "evaluation(xg_model,X_train_catboost,X_test_catboost,y_train_catboost,y_test_catboost)"
   ],
   "metadata": {
    "execution": {
     "iopub.status.busy": "2024-05-03T02:21:12.953197Z",
     "iopub.execute_input": "2024-05-03T02:21:12.953573Z",
     "iopub.status.idle": "2024-05-03T02:21:16.755466Z",
     "shell.execute_reply.started": "2024-05-03T02:21:12.953534Z",
     "shell.execute_reply": "2024-05-03T02:21:16.754164Z"
    },
    "trusted": true
   },
   "execution_count": 98,
   "outputs": [
    {
     "name": "stdout",
     "text": "Train:\nAccuracy: 0.9142049428557827\nF1 Score: 0.7893008917698174\n********************\nTest:\nAccuracy: 0.9094264726345933\nPrecision: 0.7663578893546836\nRecall: 0.7902176673998853\nF1 Score: 0.7775311252158265\nConfusion Matrix:\n[[114654   6957]\n [  5410   9520]]\n",
     "output_type": "stream"
    }
   ]
  },
  {
   "cell_type": "markdown",
   "source": [
    "## Achievement : The model is outperforming the website's model by close to 15% in F1-score. "
   ],
   "metadata": {}
  },
  {
   "cell_type": "code",
   "source": [
    "footmob_xg , model_xg = distribution(xg_model)"
   ],
   "metadata": {
    "execution": {
     "iopub.status.busy": "2024-05-03T02:21:16.756493Z",
     "iopub.execute_input": "2024-05-03T02:21:16.756826Z",
     "iopub.status.idle": "2024-05-03T02:21:20.785012Z",
     "shell.execute_reply.started": "2024-05-03T02:21:16.756797Z",
     "shell.execute_reply": "2024-05-03T02:21:20.783792Z"
    },
    "trusted": true
   },
   "execution_count": 99,
   "outputs": [
    {
     "output_type": "display_data",
     "data": {
      "text/plain": "<Figure size 640x480 with 1 Axes>",
      "image/png": "[encoded data removed]"
     },
     "metadata": {}
    },
    {
     "output_type": "display_data",
     "data": {
      "text/plain": "<Figure size 640x480 with 1 Axes>",
      "image/png": "[encoded data removed]"
     },
     "metadata": {}
    }
   ]
  },
  {
   "cell_type": "code",
   "source": [
    "import time\n",
    "import optuna"
   ],
   "metadata": {
    "execution": {
     "iopub.status.busy": "2024-05-02T19:49:42.837376Z",
     "iopub.status.idle": "2024-05-02T19:49:42.837844Z",
     "shell.execute_reply.started": "2024-05-02T19:49:42.837634Z",
     "shell.execute_reply": "2024-05-02T19:49:42.837652Z"
    },
    "trusted": true
   },
   "execution_count": null,
   "outputs": []
  },
  {
   "cell_type": "code",
   "source": [
    "def objective(trial):\n",
    "    params = {\n",
    "        \"iterations\": trial.suggest_int(\"iterations\", 800, 2000),\n",
    "        \"learning_rate\": trial.suggest_float(\"learning_rate\", 1e-3, 0.1, log=True),\n",
    "        \"depth\": trial.suggest_int(\"depth\", 1, 10),\n",
    "        \"min_data_in_leaf\": trial.suggest_int(\"min_data_in_leaf\", 1, 100),\n",
    "        \"subsample\": trial.suggest_float(\"subsample\" , 0.1, 1, log=True)\n",
    "    }\n",
    "\n",
    "    model = CatBoostClassifier(**params,task_type=\"GPU\",cat_features=categorical_cols,class_weights=weights,bootstrap_type = \"Bernoulli\")\n",
    "    model.fit(\n",
    "        X_train_catboost,\n",
    "        y_train_catboost,\n",
    "        eval_set=[(X_test_catboost, y_test_catboost)]\n",
    "    )\n",
    "\n",
    "    predictions = model.predict(X_test_catboost)\n",
    "    f1 = f1_score(y_test_catboost, predictions, average='macro')\n",
    "\n",
    "    return f1"
   ],
   "metadata": {
    "trusted": true
   },
   "execution_count": null,
   "outputs": []
  },
  {
   "cell_type": "code",
   "source": [
    "study = optuna.create_study(direction='maximize')\n",
    "start = time.time()\n",
    "study.optimize(objective, n_trials=50)\n",
    "print('HyperParameter Tuning took ',(time.time()-start)/60 , ' minutes!')"
   ],
   "metadata": {
    "execution": {
     "iopub.status.busy": "2024-05-02T19:49:43.077692Z",
     "iopub.status.idle": "2024-05-02T19:49:43.078173Z",
     "shell.execute_reply.started": "2024-05-02T19:49:43.077946Z",
     "shell.execute_reply": "2024-05-02T19:49:43.077963Z"
    },
    "trusted": true
   },
   "execution_count": null,
   "outputs": []
  },
  {
   "cell_type": "code",
   "source": [
    "print(\"Number of finished trials: {}\".format(len(study.trials)))\n",
    "print(\"Best trial:\")\n",
    "trial = study.best_trial\n",
    "print(\"  Value: {}\".format(trial.value))\n",
    "\n",
    "print(\"  Params: \")\n",
    "for key, value in trial.params.items():\n",
    "    print(\"    {}: {}\".format(key, value))"
   ],
   "metadata": {
    "execution": {
     "iopub.status.busy": "2024-05-02T19:49:43.122606Z",
     "iopub.status.idle": "2024-05-02T19:49:43.123099Z",
     "shell.execute_reply.started": "2024-05-02T19:49:43.122878Z",
     "shell.execute_reply": "2024-05-02T19:49:43.122896Z"
    },
    "trusted": true
   },
   "execution_count": null,
   "outputs": []
  },
  {
   "cell_type": "markdown",
   "source": [
    "#### Trying Polynomial Features"
   ],
   "metadata": {}
  },
  {
   "cell_type": "code",
   "source": [
    "continuous_fea = X_train_catboost.select_dtypes(exclude='O').columns\n",
    "categorical_fea = X_train_catboost.select_dtypes(include='O').columns"
   ],
   "metadata": {
    "execution": {
     "iopub.status.busy": "2024-05-02T19:49:43.193664Z",
     "iopub.status.idle": "2024-05-02T19:49:43.194156Z",
     "shell.execute_reply.started": "2024-05-02T19:49:43.193945Z",
     "shell.execute_reply": "2024-05-02T19:49:43.193962Z"
    },
    "trusted": true
   },
   "execution_count": null,
   "outputs": []
  },
  {
   "cell_type": "code",
   "source": [
    "X_train_catboost.head()"
   ],
   "metadata": {
    "execution": {
     "iopub.status.busy": "2024-05-02T19:49:43.211200Z",
     "iopub.status.idle": "2024-05-02T19:49:43.211698Z",
     "shell.execute_reply.started": "2024-05-02T19:49:43.211476Z",
     "shell.execute_reply": "2024-05-02T19:49:43.211495Z"
    },
    "trusted": true
   },
   "execution_count": null,
   "outputs": []
  },
  {
   "cell_type": "code",
   "source": [
    "from sklearn.preprocessing import PolynomialFeatures\n",
    "\n",
    "def poly_transform(x_train,x_test):\n",
    "    poly = PolynomialFeatures(degree=2,include_bias=False)\n",
    "    \n",
    "    train_continuos = poly.fit_transform(x_train[continuous_fea])\n",
    "    train_continuos = pd.DataFrame(train_continuos,index=x_train.index)\n",
    "    X_train_poly = pd.concat([train_continuos, x_train[categorical_fea]], axis=1)\n",
    "    \n",
    "    test_continuos = poly.transform(x_test[continuous_fea])\n",
    "    test_continuos = pd.DataFrame(test_continuos,index=x_test.index)\n",
    "    X_test_poly = pd.concat([test_continuos, x_test[categorical_fea]], axis=1)\n",
    "    \n",
    "    return X_train_poly,X_test_poly\n"
   ],
   "metadata": {
    "execution": {
     "iopub.status.busy": "2024-05-02T19:49:43.245284Z",
     "iopub.status.idle": "2024-05-02T19:49:43.245782Z",
     "shell.execute_reply.started": "2024-05-02T19:49:43.245567Z",
     "shell.execute_reply": "2024-05-02T19:49:43.245586Z"
    },
    "trusted": true
   },
   "execution_count": null,
   "outputs": []
  },
  {
   "cell_type": "code",
   "source": [
    "X_train_poly.head()"
   ],
   "metadata": {
    "execution": {
     "iopub.status.busy": "2024-05-02T19:49:43.269949Z",
     "iopub.status.idle": "2024-05-02T19:49:43.272165Z",
     "shell.execute_reply.started": "2024-05-02T19:49:43.271848Z",
     "shell.execute_reply": "2024-05-02T19:49:43.271884Z"
    },
    "trusted": true
   },
   "execution_count": null,
   "outputs": []
  },
  {
   "cell_type": "code",
   "source": [
    "X_train_poly,X_test_poly = poly_transform(X_train_catboost,X_test_catboost)"
   ],
   "metadata": {
    "trusted": true
   },
   "execution_count": null,
   "outputs": []
  },
  {
   "cell_type": "code",
   "source": [
    "model_poly = CatBoostClassifier(cat_features=categorical_cols,class_weights=weights)\n",
    "model_poly.fit(X_train_poly,y_train_catboost)"
   ],
   "metadata": {
    "execution": {
     "iopub.status.busy": "2024-05-02T19:49:43.415834Z",
     "iopub.status.idle": "2024-05-02T19:49:43.417528Z",
     "shell.execute_reply.started": "2024-05-02T19:49:43.416426Z",
     "shell.execute_reply": "2024-05-02T19:49:43.416449Z"
    },
    "trusted": true
   },
   "execution_count": null,
   "outputs": []
  },
  {
   "cell_type": "code",
   "source": [
    "evaluation(model_poly,X_train_poly,X_test_poly,y_train_catboost,y_test_catboost)"
   ],
   "metadata": {
    "trusted": true
   },
   "execution_count": null,
   "outputs": []
  },
  {
   "cell_type": "markdown",
   "source": [
    "#### Saving the model"
   ],
   "metadata": {}
  },
  {
   "cell_type": "code",
   "source": [
    "import pickle"
   ],
   "metadata": {
    "execution": {
     "iopub.status.busy": "2024-05-03T00:09:32.235171Z",
     "iopub.execute_input": "2024-05-03T00:09:32.235716Z",
     "iopub.status.idle": "2024-05-03T00:09:32.243193Z",
     "shell.execute_reply.started": "2024-05-03T00:09:32.235682Z",
     "shell.execute_reply": "2024-05-03T00:09:32.241258Z"
    },
    "trusted": true
   },
   "execution_count": 12,
   "outputs": []
  },
  {
   "cell_type": "code",
   "source": [
    "with open('xg_model.pkl', 'wb') as f:\n",
    "    pickle.dump(model, f)"
   ],
   "metadata": {
    "trusted": true
   },
   "execution_count": null,
   "outputs": []
  },
  {
   "cell_type": "markdown",
   "source": [
    "##### Load the model"
   ],
   "metadata": {}
  },
  {
   "cell_type": "code",
   "source": [
    "with open('/kaggle/input/xg_model/scikitlearn/xg_model/1/xg_model.pkl', 'rb') as f:\n",
    "    xg_model = pickle.load(f)"
   ],
   "metadata": {
    "execution": {
     "iopub.status.busy": "2024-05-03T00:09:35.871805Z",
     "iopub.execute_input": "2024-05-03T00:09:35.872316Z",
     "iopub.status.idle": "2024-05-03T00:09:37.632746Z",
     "shell.execute_reply.started": "2024-05-03T00:09:35.872280Z",
     "shell.execute_reply": "2024-05-03T00:09:37.631558Z"
    },
    "trusted": true
   },
   "execution_count": 13,
   "outputs": []
  },
  {
   "cell_type": "markdown",
   "source": [
    "#### Generate the new dataset with our own xg"
   ],
   "metadata": {}
  },
  {
   "cell_type": "code",
   "source": [
    "import numpy as np"
   ],
   "metadata": {
    "execution": {
     "iopub.status.busy": "2024-05-03T00:09:39.921910Z",
     "iopub.execute_input": "2024-05-03T00:09:39.922651Z",
     "iopub.status.idle": "2024-05-03T00:09:39.928332Z",
     "shell.execute_reply.started": "2024-05-03T00:09:39.922615Z",
     "shell.execute_reply": "2024-05-03T00:09:39.926962Z"
    },
    "trusted": true
   },
   "execution_count": 14,
   "outputs": []
  },
  {
   "cell_type": "code",
   "source": [
    "os.mkdir('shaped') "
   ],
   "metadata": {
    "execution": {
     "iopub.status.busy": "2024-05-03T00:30:39.325340Z",
     "iopub.execute_input": "2024-05-03T00:30:39.325841Z",
     "iopub.status.idle": "2024-05-03T00:30:39.332492Z",
     "shell.execute_reply.started": "2024-05-03T00:30:39.325806Z",
     "shell.execute_reply": "2024-05-03T00:30:39.330909Z"
    },
    "trusted": true
   },
   "execution_count": 38,
   "outputs": []
  },
  {
   "cell_type": "code",
   "source": [
    "output_path = '/kaggle/working/shaped'\n",
    "path='/kaggle/working/matches_extracted/kaggle/working/data+id'\n",
    "def process_file(file):\n",
    "    print('start',file)\n",
    "    df=pd.read_csv(path+'/'+file)\n",
    "    #create a new column to store the predicted xG\n",
    "#     x=pd.Series([0]*len(df),name='xG_predicted')\n",
    "    xg_home = []\n",
    "    xg_away = []\n",
    "    for index,row in df.iterrows():\n",
    "        try:\n",
    "            shots=row['shots']\n",
    "            if shots != '0' :\n",
    "                shots=ast.literal_eval(shots)\n",
    "                shots=pd.DataFrame(shots)\n",
    "                team=shots['teamId']\n",
    "                processed=preprocess(shots,False)\n",
    "                processed=feature_engineering(processed,True)\n",
    "                #print(processed.head())\n",
    "                y = processed['eventType']  # Target variable\n",
    "                processed.drop(['eventType'],axis=1,inplace=True)\n",
    "                predictions=xg_model.predict_proba(processed)\n",
    "                #concat the predictions with team id\n",
    "                #get only the second column of the predictions\n",
    "                predictions=predictions[:,1]\n",
    "                #transform to dataframe\n",
    "                predictions=pd.DataFrame(predictions)\n",
    "                predictions['teamId']=team\n",
    "                ddd=predictions.groupby('teamId').sum()\n",
    "                #transform ddd to dict\n",
    "                ddd=ddd.to_dict()\n",
    "                #add the xG to x\n",
    "#                 x.loc[index]=str(ddd[0])\n",
    "                home_id = row['homeId']\n",
    "                away_id = row['awayId']\n",
    "#                 print(index)\n",
    "                keys = list(ddd[0].keys())\n",
    "#                 print(keys)\n",
    "#                 print(ddd[0])\n",
    "                if len(keys) == 0:\n",
    "                    xg_home.append(0)\n",
    "                    xg_away.append(0)\n",
    "                elif len(keys) == 1 : \n",
    "                    if home_id ==keys[0]:\n",
    "                        xg_home.append(ddd[0][keys[0]])\n",
    "                        xg_away.append(0)\n",
    "                    else:\n",
    "                        xg_home.append(0)\n",
    "                        xg_away.append(ddd[0][keys[0]])\n",
    "                else:\n",
    "                    if keys[0]==keys[1]==-1:\n",
    "                        print('HHHHHHHHHHHHHHHHHHHHHHHHHHHHHHHHHHHHHHHHHHHHHHHHHHHHHHHHHHHHHHHHHHHHHHHHHHHHHHHHHHHHHHHHHHHHHHHHHHHHHHHHHHHHHH')\n",
    "                    elif (home_id not in keys and away_id not in keys):\n",
    "                        print('AAAAAAAAAAAAAAAAAAAAAAAAAAAAAAAAAAAAAAAAAAAAAAAAAAAAAAAAAAAAAAAAAAAAAAAAAAAAAAAAAAAAAAAAAAAAAAAAAAAAAAAAAAAAAA')\n",
    "                    elif keys[0]==-1:\n",
    "                        if home_id ==keys[1]:\n",
    "                            xg_home.append(ddd[0][keys[1]])\n",
    "                            xg_away.append(ddd[0][keys[0]])\n",
    "                        elif away_id == keys[1]:\n",
    "                            xg_home.append(ddd[0][keys[0]])\n",
    "                            xg_away.append(ddd[0][keys[1]])\n",
    "                    elif keys[1]==-1:\n",
    "                        if home_id ==keys[0]:\n",
    "                            xg_home.append(ddd[0][keys[0]])\n",
    "                            xg_away.append(ddd[0][keys[1]])\n",
    "                        elif away_id == keys[0]:\n",
    "                            xg_home.append(ddd[0][keys[1]])\n",
    "                            xg_away.append(ddd[0][keys[0]])\n",
    "                    else:\n",
    "                        if home_id ==keys[0]:\n",
    "                            xg_home.append(ddd[0][keys[0]])\n",
    "                            xg_away.append(ddd[0][keys[1]])\n",
    "                        else :\n",
    "                            xg_home.append(ddd[0][keys[1]])\n",
    "                            xg_away.append(ddd[0][keys[0]])\n",
    "                        \n",
    "                        \n",
    "        except Exception as error:\n",
    "            print(file , error)\n",
    "            \n",
    "            continue\n",
    "    xg_home = pd.Series(xg_home)\n",
    "    xg_away = pd.Series(xg_away)\n",
    "    \n",
    "#     df['xG_predicted']=x\n",
    "    df['xg_home'] = xg_home\n",
    "    df['xg_away'] = xg_away\n",
    "    df.to_csv(output_path+'/'+file,index=False)\n",
    "\n",
    "    \n",
    "    print('done',file)"
   ],
   "metadata": {
    "execution": {
     "iopub.status.busy": "2024-05-03T01:54:23.299384Z",
     "iopub.execute_input": "2024-05-03T01:54:23.301193Z",
     "iopub.status.idle": "2024-05-03T01:54:23.325933Z",
     "shell.execute_reply.started": "2024-05-03T01:54:23.301137Z",
     "shell.execute_reply": "2024-05-03T01:54:23.324944Z"
    },
    "trusted": true
   },
   "execution_count": 76,
   "outputs": []
  },
  {
   "cell_type": "code",
   "source": [
    "\n",
    "import os\n",
    "import ast\n",
    "missing_shot_stats = ['South Korea_2024.csv','United States_2020.csv','matches_Turkey_Super_Lig_2022_2023.csv']\n",
    "# l=os.listdir(path)\n",
    "l=[e for e in l if e.endswith('.csv') and e not in missing_shot_stats ]"
   ],
   "metadata": {
    "execution": {
     "iopub.status.busy": "2024-05-03T01:24:00.179026Z",
     "iopub.execute_input": "2024-05-03T01:24:00.182009Z",
     "iopub.status.idle": "2024-05-03T01:24:00.188739Z",
     "shell.execute_reply.started": "2024-05-03T01:24:00.181953Z",
     "shell.execute_reply": "2024-05-03T01:24:00.187408Z"
    },
    "trusted": true
   },
   "execution_count": 62,
   "outputs": []
  },
  {
   "cell_type": "code",
   "source": [
    "from joblib import Parallel, delayed\n",
    "import multiprocessing\n",
    "import pandas as pd\n",
    "\n",
    "Parallel(n_jobs=1,prefer=\"threads\")(delayed(process_file)(l[i]) for i in range(len(l)))"
   ],
   "metadata": {
    "execution": {
     "iopub.status.busy": "2024-05-03T01:54:56.346001Z",
     "iopub.execute_input": "2024-05-03T01:54:56.346447Z",
     "iopub.status.idle": "2024-05-03T02:05:03.134225Z",
     "shell.execute_reply.started": "2024-05-03T01:54:56.346414Z",
     "shell.execute_reply": "2024-05-03T02:05:03.132887Z"
    },
    "collapsed": true,
    "jupyter": {
     "outputs_hidden": true
    },
    "trusted": true
   },
   "execution_count": 78,
   "outputs": [
    {
     "name": "stdout",
     "text": "start Australia_2022_2023.csv\ndone Australia_2022_2023.csv\nstart Swisse_2021_2022.csv\ndone Swisse_2021_2022.csv\nstart Australia_2020_2021.csv\ndone Australia_2020_2021.csv\nstart United States_2022.csv\ndone United States_2022.csv\nstart Scotland_2021_2022.csv\ndone Scotland_2021_2022.csv\nstart United States_2024.csv\ndone United States_2024.csv\nstart Den_2021_2022.csv\ndone Den_2021_2022.csv\nstart matches_Portugal_Liga_Portugal_2021_2022.csv\ndone matches_Portugal_Liga_Portugal_2021_2022.csv\nstart matches_England_Premier_League_2022_2023.csv\ndone matches_England_Premier_League_2022_2023.csv\nstart India_2021_2022.csv\ndone India_2021_2022.csv\nstart Norway_2020.csv\ndone Norway_2020.csv\nstart matches_France_Ligue_1_2022_2023.csv\ndone matches_France_Ligue_1_2022_2023.csv\nstart matches_Spain_LaLiga_2020_2021.csv\ndone matches_Spain_LaLiga_2020_2021.csv\nstart Austria_2021_2022.csv\ndone Austria_2021_2022.csv\nstart Australia_2021_2022.csv\ndone Australia_2021_2022.csv\nstart matches_Saudi_Arabia_Saudi_Pro_League_2023_2024.csv\ndone matches_Saudi_Arabia_Saudi_Pro_League_2023_2024.csv\nstart matches_Spain_LaLiga_2021_2022.csv\ndone matches_Spain_LaLiga_2021_2022.csv\nstart South Korea_2022.csv\ndone South Korea_2022.csv\nstart Scotland_2022_2023.csv\ndone Scotland_2022_2023.csv\nstart Sweden_2020.csv\ndone Sweden_2020.csv\nstart matches_Germany_2._Bundesliga_2021_2022.csv\ndone matches_Germany_2._Bundesliga_2021_2022.csv\nstart matches_England_Championship_2021_2022.csv\ndone matches_England_Championship_2021_2022.csv\nstart matches_Germany_2._Bundesliga_2023_2024.csv\ndone matches_Germany_2._Bundesliga_2023_2024.csv\nstart Sweden_2022.csv\ndone Sweden_2022.csv\nstart matches_France_Ligue_1_2021_2022.csv\ndone matches_France_Ligue_1_2021_2022.csv\nstart matches_France_Ligue_1_2023_2024.csv\ndone matches_France_Ligue_1_2023_2024.csv\nstart Scotland_2023_2024.csv\ndone Scotland_2023_2024.csv\nstart matches_Italy_Serie_A_2020_2021.csv\ndone matches_Italy_Serie_A_2020_2021.csv\nstart matches_Italy_Serie_A_2022_2023.csv\ndone matches_Italy_Serie_A_2022_2023.csv\nstart matches_England_Championship_2023_2024.csv\ndone matches_England_Championship_2023_2024.csv\nstart matches_Portugal_Liga_Portugal_2022_2023.csv\ndone matches_Portugal_Liga_Portugal_2022_2023.csv\nstart Sweden_2021.csv\ndone Sweden_2021.csv\nstart Den_2022_2023.csv\ndone Den_2022_2023.csv\nstart Norway_2024.csv\ndone Norway_2024.csv\nstart matches_Netherlands_Eredivisie_2023_2024.csv\ndone matches_Netherlands_Eredivisie_2023_2024.csv\nstart Den_2020_2021.csv\ndone Den_2020_2021.csv\nstart United States_2023.csv\ndone United States_2023.csv\nstart matches_England_League_Two_2022_2023.csv\ndone matches_England_League_Two_2022_2023.csv\nstart Mexico_2022_2023+-+Clausura.csv\ndone Mexico_2022_2023+-+Clausura.csv\nstart matches_Germany_Bundesliga_2021_2022.csv\ndone matches_Germany_Bundesliga_2021_2022.csv\nstart matches_Belgium_First_Division_A_2020_2021.csv\ndone matches_Belgium_First_Division_A_2020_2021.csv\nstart matches_Spain_LaLiga_2022_2023.csv\ndone matches_Spain_LaLiga_2022_2023.csv\nstart matches_England_Championship_2022_2023.csv\ndone matches_England_Championship_2022_2023.csv\nstart Mexico_2023_2024+-+Apertura.csv\ndone Mexico_2023_2024+-+Apertura.csv\nstart matches_Portugal_Liga_Portugal_2023_2024.csv\ndone matches_Portugal_Liga_Portugal_2023_2024.csv\nstart matches_England_Premier_League_2021_2022.csv\ndone matches_England_Premier_League_2021_2022.csv\nstart Swisse_2023_2024.csv\ndone Swisse_2023_2024.csv\nstart matches_England_League_One_2023_2024.csv\ndone matches_England_League_One_2023_2024.csv\nstart matches_Belgium_First_Division_A_2022_2023.csv\ndone matches_Belgium_First_Division_A_2022_2023.csv\nstart Swisse_2020_2021.csv\ndone Swisse_2020_2021.csv\nstart Japan_2024.csv\ndone Japan_2024.csv\nstart matches_England_Premier_League_2020_2021.csv\ndone matches_England_Premier_League_2020_2021.csv\nstart South Korea_2023.csv\ndone South Korea_2023.csv\nstart Austria_2023_2024.csv\ndone Austria_2023_2024.csv\nstart matches_Belgium_First_Division_A_2021_2022.csv\ndone matches_Belgium_First_Division_A_2021_2022.csv\nstart matches_Portugal_Liga_Portugal_2020_2021.csv\ndone matches_Portugal_Liga_Portugal_2020_2021.csv\nstart matches_England_Premier_League_2023_2024.csv\ndone matches_England_Premier_League_2023_2024.csv\nstart Scotland_2020_2021.csv\ndone Scotland_2020_2021.csv\nstart matches_Turkey_Super_Lig_2023_2024.csv\ndone matches_Turkey_Super_Lig_2023_2024.csv\nstart Japan_2023.csv\ndone Japan_2023.csv\nstart matches_Italy_Serie_A_2023_2024.csv\ndone matches_Italy_Serie_A_2023_2024.csv\nstart matches_Netherlands_Eredivisie_2021_2022.csv\ndone matches_Netherlands_Eredivisie_2021_2022.csv\nstart matches_England_Championship_2020_2021.csv\ndone matches_England_Championship_2020_2021.csv\nstart matches_Belgium_First_Division_A_2023_2024.csv\ndone matches_Belgium_First_Division_A_2023_2024.csv\nstart matches_Germany_2._Bundesliga_2022_2023.csv\ndone matches_Germany_2._Bundesliga_2022_2023.csv\nstart Mexico_2023_2024+-+Clausura.csv\ndone Mexico_2023_2024+-+Clausura.csv\nstart Brazil_2024.csv\ndone Brazil_2024.csv\nstart Brazil_2023.csv\ndone Brazil_2023.csv\nstart Australia_2023_2024.csv\ndone Australia_2023_2024.csv\nstart Den_2023_2024.csv\ndone Den_2023_2024.csv\nstart Norway_2023.csv\ndone Norway_2023.csv\nstart India_2023_2024.csv\ndone India_2023_2024.csv\nstart matches_England_League_One_2022_2023.csv\ndone matches_England_League_One_2022_2023.csv\nstart matches_Italy_Serie_A_2021_2022.csv\ndone matches_Italy_Serie_A_2021_2022.csv\nstart matches_Spain_LaLiga_2023_2024.csv\ndone matches_Spain_LaLiga_2023_2024.csv\nstart Japan_2022.csv\ndone Japan_2022.csv\nstart matches_France_Ligue_1_2020_2021.csv\ndone matches_France_Ligue_1_2020_2021.csv\nstart Swisse_2022_2023.csv\ndone Swisse_2022_2023.csv\nstart matches_Germany_Bundesliga_2023_2024.csv\ndone matches_Germany_Bundesliga_2023_2024.csv\nstart Sweden_2024.csv\ndone Sweden_2024.csv\nstart India_2020_2021.csv\ndone India_2020_2021.csv\nstart Norway_2021.csv\ndone Norway_2021.csv\nstart matches_England_League_Two_2023_2024.csv\ndone matches_England_League_Two_2023_2024.csv\nstart Norway_2022.csv\ndone Norway_2022.csv\nstart Sweden_2023.csv\ndone Sweden_2023.csv\nstart matches_Germany_Bundesliga_2022_2023.csv\ndone matches_Germany_Bundesliga_2022_2023.csv\nstart Austria_2022_2023.csv\ndone Austria_2022_2023.csv\nstart India_2022_2023.csv\ndone India_2022_2023.csv\nstart matches_Germany_Bundesliga_2020_2021.csv\ndone matches_Germany_Bundesliga_2020_2021.csv\nstart matches_Netherlands_Eredivisie_2020_2021.csv\ndone matches_Netherlands_Eredivisie_2020_2021.csv\nstart matches_Netherlands_Eredivisie_2022_2023.csv\ndone matches_Netherlands_Eredivisie_2022_2023.csv\nstart Austria_2020_2021.csv\ndone Austria_2020_2021.csv\nstart Argentina_2023.csv\ndone Argentina_2023.csv\nstart United States_2021.csv\ndone United States_2021.csv\n",
     "output_type": "stream"
    },
    {
     "execution_count": 78,
     "output_type": "execute_result",
     "data": {
      "text/plain": "[None,\n None,\n None,\n None,\n None,\n None,\n None,\n None,\n None,\n None,\n None,\n None,\n None,\n None,\n None,\n None,\n None,\n None,\n None,\n None,\n None,\n None,\n None,\n None,\n None,\n None,\n None,\n None,\n None,\n None,\n None,\n None,\n None,\n None,\n None,\n None,\n None,\n None,\n None,\n None,\n None,\n None,\n None,\n None,\n None,\n None,\n None,\n None,\n None,\n None,\n None,\n None,\n None,\n None,\n None,\n None,\n None,\n None,\n None,\n None,\n None,\n None,\n None,\n None,\n None,\n None,\n None,\n None,\n None,\n None,\n None,\n None,\n None,\n None,\n None,\n None,\n None,\n None,\n None,\n None,\n None,\n None,\n None,\n None,\n None,\n None,\n None,\n None,\n None,\n None,\n None,\n None,\n None,\n None]"
     },
     "metadata": {}
    }
   ]
  },
  {
   "cell_type": "code",
   "source": [
    "pip install gdown"
   ],
   "metadata": {
    "execution": {
     "iopub.status.busy": "2024-05-03T00:04:10.547637Z",
     "iopub.execute_input": "2024-05-03T00:04:10.548068Z",
     "iopub.status.idle": "2024-05-03T00:04:28.045437Z",
     "shell.execute_reply.started": "2024-05-03T00:04:10.548038Z",
     "shell.execute_reply": "2024-05-03T00:04:28.043745Z"
    },
    "trusted": true
   },
   "execution_count": 6,
   "outputs": [
    {
     "name": "stdout",
     "text": "Collecting gdown\n  Downloading gdown-5.1.0-py3-none-any.whl.metadata (5.7 kB)\nRequirement already satisfied: beautifulsoup4 in /opt/conda/lib/python3.10/site-packages (from gdown) (4.12.2)\nRequirement already satisfied: filelock in /opt/conda/lib/python3.10/site-packages (from gdown) (3.13.1)\nRequirement already satisfied: requests[socks] in /opt/conda/lib/python3.10/site-packages (from gdown) (2.31.0)\nRequirement already satisfied: tqdm in /opt/conda/lib/python3.10/site-packages (from gdown) (4.66.1)\nRequirement already satisfied: soupsieve>1.2 in /opt/conda/lib/python3.10/site-packages (from beautifulsoup4->gdown) (2.5)\nRequirement already satisfied: charset-normalizer<4,>=2 in /opt/conda/lib/python3.10/site-packages (from requests[socks]->gdown) (3.3.2)\nRequirement already satisfied: idna<4,>=2.5 in /opt/conda/lib/python3.10/site-packages (from requests[socks]->gdown) (3.6)\nRequirement already satisfied: urllib3<3,>=1.21.1 in /opt/conda/lib/python3.10/site-packages (from requests[socks]->gdown) (1.26.18)\nRequirement already satisfied: certifi>=2017.4.17 in /opt/conda/lib/python3.10/site-packages (from requests[socks]->gdown) (2024.2.2)\nRequirement already satisfied: PySocks!=1.5.7,>=1.5.6 in /opt/conda/lib/python3.10/site-packages (from requests[socks]->gdown) (1.7.1)\nDownloading gdown-5.1.0-py3-none-any.whl (17 kB)\nInstalling collected packages: gdown\nSuccessfully installed gdown-5.1.0\nNote: you may need to restart the kernel to use updated packages.\n",
     "output_type": "stream"
    }
   ]
  },
  {
   "cell_type": "code",
   "source": [
    "import gdown \n",
    "url = 'https://drive.google.com/uc?id=1qRBOqRDs5R1zqZ29KH1WraBTBGXOyWYz' \n",
    "output = '/kaggle/working/matches.zip'\n",
    "gdown.download(url, output)"
   ],
   "metadata": {
    "execution": {
     "iopub.status.busy": "2024-05-03T00:05:45.075239Z",
     "iopub.execute_input": "2024-05-03T00:05:45.075721Z",
     "iopub.status.idle": "2024-05-03T00:05:46.883391Z",
     "shell.execute_reply.started": "2024-05-03T00:05:45.075685Z",
     "shell.execute_reply": "2024-05-03T00:05:46.882021Z"
    },
    "trusted": true
   },
   "execution_count": 9,
   "outputs": [
    {
     "name": "stderr",
     "text": "Downloading...\nFrom (original): https://drive.google.com/uc?id=1qRBOqRDs5R1zqZ29KH1WraBTBGXOyWYz\nFrom (redirected): https://drive.google.com/uc?id=1qRBOqRDs5R1zqZ29KH1WraBTBGXOyWYz&confirm=t&uuid=a6e4443f-221c-4276-b826-40d370cee19a\nTo: /kaggle/working/matches.zip\n100%|██████████| 70.7M/70.7M [00:00<00:00, 98.4MB/s]\n",
     "output_type": "stream"
    },
    {
     "execution_count": 9,
     "output_type": "execute_result",
     "data": {
      "text/plain": "'/kaggle/working/matches.zip'"
     },
     "metadata": {}
    }
   ]
  },
  {
   "cell_type": "code",
   "source": [
    "import zipfile\n",
    "with zipfile.ZipFile('/kaggle/working/matches.zip', 'r') as zip_ref:\n",
    "    zip_ref.extractall('/kaggle/working/matches_extracted')"
   ],
   "metadata": {
    "execution": {
     "iopub.status.busy": "2024-05-03T00:08:07.480546Z",
     "iopub.execute_input": "2024-05-03T00:08:07.481885Z",
     "iopub.status.idle": "2024-05-03T00:08:10.040290Z",
     "shell.execute_reply.started": "2024-05-03T00:08:07.481830Z",
     "shell.execute_reply": "2024-05-03T00:08:10.039065Z"
    },
    "trusted": true
   },
   "execution_count": 11,
   "outputs": []
  },
  {
   "cell_type": "markdown",
   "source": [
    "#### Creating a zip file"
   ],
   "metadata": {}
  },
  {
   "cell_type": "code",
   "source": [
    "def zip_folder(folder_path, zip_path):\n",
    "    with zipfile.ZipFile(zip_path, 'w', zipfile.ZIP_DEFLATED) as zipf:\n",
    "        for root, _, files in os.walk(folder_path):\n",
    "            for file in files:\n",
    "                file_path = os.path.join(root, file)\n",
    "                zipf.write(file_path, os.path.relpath(file_path, folder_path))\n",
    "\n",
    "# Specify the folder path and the zip file path\n",
    "folder_path = 'shaped'\n",
    "zip_path = 'matches_xg.zip'\n",
    "\n",
    "# Create the zip file from the folder\n",
    "zip_folder(folder_path, zip_path)"
   ],
   "metadata": {
    "execution": {
     "iopub.status.busy": "2024-05-03T02:26:14.486454Z",
     "iopub.execute_input": "2024-05-03T02:26:14.486908Z",
     "iopub.status.idle": "2024-05-03T02:26:28.636997Z",
     "shell.execute_reply.started": "2024-05-03T02:26:14.486875Z",
     "shell.execute_reply": "2024-05-03T02:26:28.635585Z"
    },
    "trusted": true
   },
   "execution_count": 102,
   "outputs": []
  },
  {
   "cell_type": "markdown",
   "source": [
    "## Visualization of relationship between our model xg and other relevant features"
   ],
   "metadata": {}
  },
  {
   "cell_type": "code",
   "source": [
    "files = os.listdir('shaped')\n",
    "length = 0\n",
    "data_xg = pd.DataFrame()\n",
    "for file in files:\n",
    "    file_data = pd.read_csv('shaped/'+file)[['homeScore','awayScore','xg_home','xg_away','total_shots_home','total_shots_away','ShotsOnTarget_home','ShotsOnTarget_away']]\n",
    "#     print(file_data.shape)\n",
    "    length += file_data.shape[0]\n",
    "#     print(length)\n",
    "    data_xg = pd.concat([data_xg, file_data])\n",
    "\n",
    "data_xg.to_csv('data_xg.csv')"
   ],
   "metadata": {
    "execution": {
     "iopub.status.busy": "2024-05-03T02:52:33.290938Z",
     "iopub.execute_input": "2024-05-03T02:52:33.291375Z",
     "iopub.status.idle": "2024-05-03T02:52:44.873986Z",
     "shell.execute_reply.started": "2024-05-03T02:52:33.291345Z",
     "shell.execute_reply": "2024-05-03T02:52:44.872748Z"
    },
    "trusted": true
   },
   "execution_count": 112,
   "outputs": []
  },
  {
   "cell_type": "code",
   "source": [
    "data_xg = pd.read_csv('/kaggle/working/data_xg.csv',index_col=0)"
   ],
   "metadata": {
    "execution": {
     "iopub.status.busy": "2024-05-03T02:58:46.083536Z",
     "iopub.execute_input": "2024-05-03T02:58:46.084057Z",
     "iopub.status.idle": "2024-05-03T02:58:46.131054Z",
     "shell.execute_reply.started": "2024-05-03T02:58:46.084019Z",
     "shell.execute_reply": "2024-05-03T02:58:46.129831Z"
    },
    "trusted": true
   },
   "execution_count": 118,
   "outputs": []
  },
  {
   "cell_type": "code",
   "source": [
    "data_xg.shape"
   ],
   "metadata": {
    "execution": {
     "iopub.status.busy": "2024-05-03T02:58:47.684376Z",
     "iopub.execute_input": "2024-05-03T02:58:47.684872Z",
     "iopub.status.idle": "2024-05-03T02:58:47.692959Z",
     "shell.execute_reply.started": "2024-05-03T02:58:47.684836Z",
     "shell.execute_reply": "2024-05-03T02:58:47.691334Z"
    },
    "trusted": true
   },
   "execution_count": 119,
   "outputs": [
    {
     "execution_count": 119,
     "output_type": "execute_result",
     "data": {
      "text/plain": "(26252, 8)"
     },
     "metadata": {}
    }
   ]
  },
  {
   "cell_type": "code",
   "source": [
    "data_xg.head()"
   ],
   "metadata": {
    "execution": {
     "iopub.status.busy": "2024-05-03T02:58:49.710919Z",
     "iopub.execute_input": "2024-05-03T02:58:49.711320Z",
     "iopub.status.idle": "2024-05-03T02:58:49.732923Z",
     "shell.execute_reply.started": "2024-05-03T02:58:49.711290Z",
     "shell.execute_reply": "2024-05-03T02:58:49.731166Z"
    },
    "trusted": true
   },
   "execution_count": 120,
   "outputs": [
    {
     "execution_count": 120,
     "output_type": "execute_result",
     "data": {
      "text/plain": "   homeScore  awayScore   xg_home   xg_away  total_shots_home  \\\n0          3          0  2.899572  1.786461              10.0   \n1          2          0  2.806710  1.120858              15.0   \n2          3          1  2.428639  1.714013              12.0   \n3          1          1  1.958051  1.938117              15.0   \n4          0          2  0.095830  2.138762              16.0   \n\n   total_shots_away  ShotsOnTarget_home  ShotsOnTarget_away  \n0              13.0                 6.0                 2.0  \n1              10.0                 8.0                 5.0  \n2              14.0                 4.0                 3.0  \n3               8.0                 4.0                 2.0  \n4               9.0                 2.0                 4.0  ",
      "text/html": "<div>\n<style scoped>\n    .dataframe tbody tr th:only-of-type {\n        vertical-align: middle;\n    }\n\n    .dataframe tbody tr th {\n        vertical-align: top;\n    }\n\n    .dataframe thead th {\n        text-align: right;\n    }\n</style>\n<table border=\"1\" class=\"dataframe\">\n  <thead>\n    <tr style=\"text-align: right;\">\n      <th></th>\n      <th>homeScore</th>\n      <th>awayScore</th>\n      <th>xg_home</th>\n      <th>xg_away</th>\n      <th>total_shots_home</th>\n      <th>total_shots_away</th>\n      <th>ShotsOnTarget_home</th>\n      <th>ShotsOnTarget_away</th>\n    </tr>\n  </thead>\n  <tbody>\n    <tr>\n      <th>0</th>\n      <td>3</td>\n      <td>0</td>\n      <td>2.899572</td>\n      <td>1.786461</td>\n      <td>10.0</td>\n      <td>13.0</td>\n      <td>6.0</td>\n      <td>2.0</td>\n    </tr>\n    <tr>\n      <th>1</th>\n      <td>2</td>\n      <td>0</td>\n      <td>2.806710</td>\n      <td>1.120858</td>\n      <td>15.0</td>\n      <td>10.0</td>\n      <td>8.0</td>\n      <td>5.0</td>\n    </tr>\n    <tr>\n      <th>2</th>\n      <td>3</td>\n      <td>1</td>\n      <td>2.428639</td>\n      <td>1.714013</td>\n      <td>12.0</td>\n      <td>14.0</td>\n      <td>4.0</td>\n      <td>3.0</td>\n    </tr>\n    <tr>\n      <th>3</th>\n      <td>1</td>\n      <td>1</td>\n      <td>1.958051</td>\n      <td>1.938117</td>\n      <td>15.0</td>\n      <td>8.0</td>\n      <td>4.0</td>\n      <td>2.0</td>\n    </tr>\n    <tr>\n      <th>4</th>\n      <td>0</td>\n      <td>2</td>\n      <td>0.095830</td>\n      <td>2.138762</td>\n      <td>16.0</td>\n      <td>9.0</td>\n      <td>2.0</td>\n      <td>4.0</td>\n    </tr>\n  </tbody>\n</table>\n</div>"
     },
     "metadata": {}
    }
   ]
  },
  {
   "cell_type": "code",
   "source": [
    "noH_noA = pd.DataFrame(np.vstack([data_xg[['homeScore','xg_home','total_shots_home','ShotsOnTarget_home']],data_xg[['awayScore','xg_away','total_shots_away','ShotsOnTarget_away']]]),columns=['Score','xg','total_shots','ShotsOnTarget'])"
   ],
   "metadata": {
    "execution": {
     "iopub.status.busy": "2024-05-03T04:15:28.847398Z",
     "iopub.execute_input": "2024-05-03T04:15:28.847998Z",
     "iopub.status.idle": "2024-05-03T04:15:28.861875Z",
     "shell.execute_reply.started": "2024-05-03T04:15:28.847956Z",
     "shell.execute_reply": "2024-05-03T04:15:28.859938Z"
    },
    "trusted": true
   },
   "execution_count": 157,
   "outputs": []
  },
  {
   "cell_type": "code",
   "source": [
    "noH_noA.shape"
   ],
   "metadata": {
    "execution": {
     "iopub.status.busy": "2024-05-03T04:15:30.098319Z",
     "iopub.execute_input": "2024-05-03T04:15:30.098780Z",
     "iopub.status.idle": "2024-05-03T04:15:30.106965Z",
     "shell.execute_reply.started": "2024-05-03T04:15:30.098743Z",
     "shell.execute_reply": "2024-05-03T04:15:30.105332Z"
    },
    "trusted": true
   },
   "execution_count": 158,
   "outputs": [
    {
     "execution_count": 158,
     "output_type": "execute_result",
     "data": {
      "text/plain": "(52504, 4)"
     },
     "metadata": {}
    }
   ]
  },
  {
   "cell_type": "code",
   "source": [
    "noH_noA"
   ],
   "metadata": {
    "execution": {
     "iopub.status.busy": "2024-05-03T04:15:34.579274Z",
     "iopub.execute_input": "2024-05-03T04:15:34.580007Z",
     "iopub.status.idle": "2024-05-03T04:15:34.598260Z",
     "shell.execute_reply.started": "2024-05-03T04:15:34.579968Z",
     "shell.execute_reply": "2024-05-03T04:15:34.596931Z"
    },
    "trusted": true
   },
   "execution_count": 159,
   "outputs": [
    {
     "execution_count": 159,
     "output_type": "execute_result",
     "data": {
      "text/plain": "       Score        xg  total_shots  ShotsOnTarget\n0        3.0  2.899572         10.0            6.0\n1        2.0  2.806710         15.0            8.0\n2        3.0  2.428639         12.0            4.0\n3        1.0  1.958051         15.0            4.0\n4        0.0  0.095830         16.0            2.0\n...      ...       ...          ...            ...\n52499    1.0  1.766452         14.0            3.0\n52500    3.0  2.782079         15.0            6.0\n52501    1.0  0.994312         10.0            4.0\n52502    1.0  2.932400         15.0            7.0\n52503    1.0  2.384365         12.0            5.0\n\n[52504 rows x 4 columns]",
      "text/html": "<div>\n<style scoped>\n    .dataframe tbody tr th:only-of-type {\n        vertical-align: middle;\n    }\n\n    .dataframe tbody tr th {\n        vertical-align: top;\n    }\n\n    .dataframe thead th {\n        text-align: right;\n    }\n</style>\n<table border=\"1\" class=\"dataframe\">\n  <thead>\n    <tr style=\"text-align: right;\">\n      <th></th>\n      <th>Score</th>\n      <th>xg</th>\n      <th>total_shots</th>\n      <th>ShotsOnTarget</th>\n    </tr>\n  </thead>\n  <tbody>\n    <tr>\n      <th>0</th>\n      <td>3.0</td>\n      <td>2.899572</td>\n      <td>10.0</td>\n      <td>6.0</td>\n    </tr>\n    <tr>\n      <th>1</th>\n      <td>2.0</td>\n      <td>2.806710</td>\n      <td>15.0</td>\n      <td>8.0</td>\n    </tr>\n    <tr>\n      <th>2</th>\n      <td>3.0</td>\n      <td>2.428639</td>\n      <td>12.0</td>\n      <td>4.0</td>\n    </tr>\n    <tr>\n      <th>3</th>\n      <td>1.0</td>\n      <td>1.958051</td>\n      <td>15.0</td>\n      <td>4.0</td>\n    </tr>\n    <tr>\n      <th>4</th>\n      <td>0.0</td>\n      <td>0.095830</td>\n      <td>16.0</td>\n      <td>2.0</td>\n    </tr>\n    <tr>\n      <th>...</th>\n      <td>...</td>\n      <td>...</td>\n      <td>...</td>\n      <td>...</td>\n    </tr>\n    <tr>\n      <th>52499</th>\n      <td>1.0</td>\n      <td>1.766452</td>\n      <td>14.0</td>\n      <td>3.0</td>\n    </tr>\n    <tr>\n      <th>52500</th>\n      <td>3.0</td>\n      <td>2.782079</td>\n      <td>15.0</td>\n      <td>6.0</td>\n    </tr>\n    <tr>\n      <th>52501</th>\n      <td>1.0</td>\n      <td>0.994312</td>\n      <td>10.0</td>\n      <td>4.0</td>\n    </tr>\n    <tr>\n      <th>52502</th>\n      <td>1.0</td>\n      <td>2.932400</td>\n      <td>15.0</td>\n      <td>7.0</td>\n    </tr>\n    <tr>\n      <th>52503</th>\n      <td>1.0</td>\n      <td>2.384365</td>\n      <td>12.0</td>\n      <td>5.0</td>\n    </tr>\n  </tbody>\n</table>\n<p>52504 rows × 4 columns</p>\n</div>"
     },
     "metadata": {}
    }
   ]
  },
  {
   "cell_type": "markdown",
   "source": [
    "#### When the number of goals increases , we can notice that the distribution of xg changes . In fact, it's median keeps on increasing. \n",
    "- The median of each box is very close to the scored goals in that specific match\n",
    "- For each number of goals , we find xgs that goes above it(A team can produce so much scoring chances but only score few of them)\n",
    "- For each number of goals , we find xgs that goes under it(A team can score from any possible chance)"
   ],
   "metadata": {}
  },
  {
   "cell_type": "code",
   "source": [
    "sns.boxplot(y=\"xg\",x=\"Score\",data=noH_noA)"
   ],
   "metadata": {
    "execution": {
     "iopub.status.busy": "2024-05-03T04:05:36.576455Z",
     "iopub.execute_input": "2024-05-03T04:05:36.577270Z",
     "iopub.status.idle": "2024-05-03T04:05:37.031682Z",
     "shell.execute_reply.started": "2024-05-03T04:05:36.577232Z",
     "shell.execute_reply": "2024-05-03T04:05:37.030164Z"
    },
    "trusted": true
   },
   "execution_count": 151,
   "outputs": [
    {
     "execution_count": 151,
     "output_type": "execute_result",
     "data": {
      "text/plain": "<Axes: xlabel='Score', ylabel='xg'>"
     },
     "metadata": {}
    },
    {
     "output_type": "display_data",
     "data": {
      "text/plain": "<Figure size 640x480 with 1 Axes>",
      "image/png": "[encoded data removed]"
     },
     "metadata": {}
    }
   ]
  },
  {
   "cell_type": "markdown",
   "source": [
    "#### We can notice that we don't have the same distributions !"
   ],
   "metadata": {}
  },
  {
   "cell_type": "code",
   "source": [
    "sns.boxplot(data=noH_noA)"
   ],
   "metadata": {
    "execution": {
     "iopub.status.busy": "2024-05-03T03:52:40.429475Z",
     "iopub.execute_input": "2024-05-03T03:52:40.429950Z",
     "iopub.status.idle": "2024-05-03T03:52:40.752392Z",
     "shell.execute_reply.started": "2024-05-03T03:52:40.429915Z",
     "shell.execute_reply": "2024-05-03T03:52:40.751112Z"
    },
    "trusted": true
   },
   "execution_count": 142,
   "outputs": [
    {
     "execution_count": 142,
     "output_type": "execute_result",
     "data": {
      "text/plain": "<Axes: >"
     },
     "metadata": {}
    },
    {
     "output_type": "display_data",
     "data": {
      "text/plain": "<Figure size 640x480 with 1 Axes>",
      "image/png": "[encoded data removed]"
     },
     "metadata": {}
    }
   ]
  },
  {
   "cell_type": "markdown",
   "source": [
    "#### It seems that there isn't correlation between xg and the other features !"
   ],
   "metadata": {}
  },
  {
   "cell_type": "code",
   "source": [
    "plt.figure(figsize=(12,8))\n",
    "plt.subplot(1,3,1)\n",
    "sns.scatterplot(y=\"xg\",x=\"Score\",data=noH_noA)\n",
    "plt.subplot(1,3,2)\n",
    "sns.scatterplot(y=\"xg\",x=\"total_shots\",data=noH_noA)\n",
    "plt.subplot(1,3,3)\n",
    "sns.scatterplot(y=\"xg\",x=\"ShotsOnTarget\",data=noH_noA)"
   ],
   "metadata": {
    "execution": {
     "iopub.status.busy": "2024-05-03T03:57:47.098910Z",
     "iopub.execute_input": "2024-05-03T03:57:47.099365Z",
     "iopub.status.idle": "2024-05-03T03:57:48.542407Z",
     "shell.execute_reply.started": "2024-05-03T03:57:47.099332Z",
     "shell.execute_reply": "2024-05-03T03:57:48.540832Z"
    },
    "trusted": true
   },
   "execution_count": 146,
   "outputs": [
    {
     "execution_count": 146,
     "output_type": "execute_result",
     "data": {
      "text/plain": "<Axes: xlabel='ShotsOnTarget', ylabel='xg'>"
     },
     "metadata": {}
    },
    {
     "output_type": "display_data",
     "data": {
      "text/plain": "<Figure size 1200x800 with 3 Axes>",
      "image/png": "[encoded data removed]"
     },
     "metadata": {}
    }
   ]
  },
  {
   "cell_type": "markdown",
   "source": [
    "#### There are some important observations :\n",
    "- xg and ShotsOnTarget are the most correlated\n",
    "- There is no correlation between Goals scored in a match and total_shots"
   ],
   "metadata": {}
  },
  {
   "cell_type": "code",
   "source": [
    "sns.heatmap(noH_noA.corr(),annot=True)"
   ],
   "metadata": {
    "execution": {
     "iopub.status.busy": "2024-05-03T04:12:35.437590Z",
     "iopub.execute_input": "2024-05-03T04:12:35.438126Z",
     "iopub.status.idle": "2024-05-03T04:12:35.873144Z",
     "shell.execute_reply.started": "2024-05-03T04:12:35.438091Z",
     "shell.execute_reply": "2024-05-03T04:12:35.871679Z"
    },
    "trusted": true
   },
   "execution_count": 152,
   "outputs": [
    {
     "execution_count": 152,
     "output_type": "execute_result",
     "data": {
      "text/plain": "<Axes: >"
     },
     "metadata": {}
    },
    {
     "output_type": "display_data",
     "data": {
      "text/plain": "<Figure size 640x480 with 2 Axes>",
      "image/png": "[encoded data removed]"
     },
     "metadata": {}
    }
   ]
  },
  {
   "cell_type": "code",
   "source": [
    "noH_noA['score_xg_diff'] = noH_noA['Score'] - noH_noA['xg'] "
   ],
   "metadata": {
    "execution": {
     "iopub.status.busy": "2024-05-03T04:16:31.149312Z",
     "iopub.execute_input": "2024-05-03T04:16:31.149793Z",
     "iopub.status.idle": "2024-05-03T04:16:31.158098Z",
     "shell.execute_reply.started": "2024-05-03T04:16:31.149758Z",
     "shell.execute_reply": "2024-05-03T04:16:31.156354Z"
    },
    "trusted": true
   },
   "execution_count": 160,
   "outputs": []
  },
  {
   "cell_type": "markdown",
   "source": [
    "#### The difference between the real scored goals and the expected ones is very close from a standard normal distribution with a mean of -0.4 and std = 1 . This plot emphasizes on the fact that the difference in predictions is in very reasonable ranges."
   ],
   "metadata": {}
  },
  {
   "cell_type": "code",
   "source": [
    "sns.histplot(noH_noA['score_xg_diff'])"
   ],
   "metadata": {
    "execution": {
     "iopub.status.busy": "2024-05-03T04:17:46.031123Z",
     "iopub.execute_input": "2024-05-03T04:17:46.031614Z",
     "iopub.status.idle": "2024-05-03T04:17:46.908219Z",
     "shell.execute_reply.started": "2024-05-03T04:17:46.031563Z",
     "shell.execute_reply": "2024-05-03T04:17:46.906973Z"
    },
    "trusted": true
   },
   "execution_count": 161,
   "outputs": [
    {
     "execution_count": 161,
     "output_type": "execute_result",
     "data": {
      "text/plain": "<Axes: xlabel='score_xg_diff', ylabel='Count'>"
     },
     "metadata": {}
    },
    {
     "output_type": "display_data",
     "data": {
      "text/plain": "<Figure size 640x480 with 1 Axes>",
      "image/png": "[encoded data removed]"
     },
     "metadata": {}
    }
   ]
  },
  {
   "cell_type": "code",
   "source": [
    "noH_noA['score_xg_diff'].mean()"
   ],
   "metadata": {
    "execution": {
     "iopub.status.busy": "2024-05-03T04:24:05.030853Z",
     "iopub.execute_input": "2024-05-03T04:24:05.031819Z",
     "iopub.status.idle": "2024-05-03T04:24:05.043123Z",
     "shell.execute_reply.started": "2024-05-03T04:24:05.031756Z",
     "shell.execute_reply": "2024-05-03T04:24:05.041539Z"
    },
    "trusted": true
   },
   "execution_count": 162,
   "outputs": [
    {
     "execution_count": 162,
     "output_type": "execute_result",
     "data": {
      "text/plain": "-0.4317569264786852"
     },
     "metadata": {}
    }
   ]
  },
  {
   "cell_type": "code",
   "source": [
    "noH_noA['score_xg_diff'].std()"
   ],
   "metadata": {
    "execution": {
     "iopub.status.busy": "2024-05-03T04:24:14.717213Z",
     "iopub.execute_input": "2024-05-03T04:24:14.717739Z",
     "iopub.status.idle": "2024-05-03T04:24:14.728438Z",
     "shell.execute_reply.started": "2024-05-03T04:24:14.717697Z",
     "shell.execute_reply": "2024-05-03T04:24:14.727022Z"
    },
    "trusted": true
   },
   "execution_count": 163,
   "outputs": [
    {
     "execution_count": 163,
     "output_type": "execute_result",
     "data": {
      "text/plain": "0.9937738065673477"
     },
     "metadata": {}
    }
   ]
  }
 ]
}
