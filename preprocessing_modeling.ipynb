{
 "cells": [
  {
   "cell_type": "code",
   "execution_count": 63,
   "metadata": {
    "collapsed": true
   },
   "outputs": [],
   "source": [
    "import pandas as pd\n",
    "import seaborn as sns\n",
    "import matplotlib.pyplot as plt\n",
    "import numpy as np\n",
    "np.random.seed(1)\n",
    "import warnings\n",
    "warnings.filterwarnings(\"ignore\")\n",
    "from sklearn.model_selection import train_test_split,GridSearchCV , StratifiedKFold\n",
    "from sklearn.metrics import f1_score , confusion_matrix , classification_report\n",
    "from sklearn.preprocessing import StandardScaler\n",
    "from sklearn.pipeline import make_pipeline\n",
    "from sklearn.linear_model import LogisticRegression\n",
    "from sklearn.svm import SVC\n",
    "from xgboost import XGBClassifier"
   ]
  },
  {
   "cell_type": "markdown",
   "source": [
    "# Preprocessing"
   ],
   "metadata": {
    "collapsed": false
   }
  },
  {
   "cell_type": "code",
   "execution_count": 2,
   "outputs": [],
   "source": [
    "dataset = pd.read_csv('main_data.csv',index_col=0)\n",
    "features = dataset.columns.tolist()\n",
    "features.remove('target')\n",
    "home_features = features[:19]\n",
    "away_features = features[19:]"
   ],
   "metadata": {
    "collapsed": false
   }
  },
  {
   "cell_type": "code",
   "execution_count": 26,
   "outputs": [],
   "source": [
    "features_19 = [feature[:-4]+'diff' for feature in home_features]\n",
    "def dataset19(df):\n",
    "    dataset_19 = pd.DataFrame(df[home_features].values - df[away_features].values,columns=features_19)\n",
    "    dataset_19['target'] = df['target']\n",
    "    return dataset_19"
   ],
   "metadata": {
    "collapsed": false
   }
  },
  {
   "cell_type": "code",
   "execution_count": 34,
   "outputs": [],
   "source": [
    "data_19_feature = dataset19(dataset)"
   ],
   "metadata": {
    "collapsed": false
   }
  },
  {
   "cell_type": "code",
   "execution_count": 31,
   "outputs": [],
   "source": [
    "random_state = 1"
   ],
   "metadata": {
    "collapsed": false
   }
  },
  {
   "cell_type": "code",
   "execution_count": 36,
   "outputs": [],
   "source": [
    "def split_data(df):\n",
    "    X = df.drop('target',axis=1)\n",
    "    y = df['target']\n",
    "    X_train , X_test , y_train , y_test = train_test_split(X,y,test_size=0.2,random_state=random_state,stratify=y.values,shuffle=True)\n",
    "    return X_train , X_test , y_train , y_test"
   ],
   "metadata": {
    "collapsed": false
   }
  },
  {
   "cell_type": "code",
   "execution_count": 37,
   "outputs": [
    {
     "name": "stdout",
     "output_type": "stream",
     "text": [
      "X_train_38 shape is: (6968, 38)\n",
      "y_train_38 shape is: (6968,)\n",
      "X_test_38 shape is: (1743, 38)\n",
      "y_test_38 shape is: (1743,)\n",
      "X_train_19 shape is: (6968, 19)\n",
      "y_train_19 shape is: (6968,)\n",
      "X_test_19 shape is: (1743, 19)\n",
      "y_test_19 shape is: (1743,)\n"
     ]
    }
   ],
   "source": [
    "X_train_38 , X_test_38 , y_train_38 , y_test_38 = split_data(dataset)\n",
    "X_train_19 , X_test_19 , y_train_19 , y_test_19 = split_data(data_19_feature)\n",
    "print(\"X_train_38 shape is:\" , X_train_38.shape)\n",
    "print(\"y_train_38 shape is:\" , y_train_38.shape)\n",
    "print(\"X_test_38 shape is:\" , X_test_38.shape)\n",
    "print(\"y_test_38 shape is:\" , y_test_38.shape)\n",
    "print(\"X_train_19 shape is:\" , X_train_19.shape)\n",
    "print(\"y_train_19 shape is:\" , y_train_19.shape)\n",
    "print(\"X_test_19 shape is:\" , X_test_19.shape)\n",
    "print(\"y_test_19 shape is:\" , y_test_19.shape)"
   ],
   "metadata": {
    "collapsed": false
   }
  },
  {
   "cell_type": "code",
   "execution_count": 50,
   "outputs": [],
   "source": [
    "def preprocessing(train,test):\n",
    "    scaler = StandardScaler()\n",
    "    X_preprocessed = pd.DataFrame(scaler.fit_transform(train),columns=train.columns)\n",
    "    test_preprocessed = pd.DataFrame(scaler.transform(test),columns=test.columns)\n",
    "    return X_preprocessed,test_preprocessed"
   ],
   "metadata": {
    "collapsed": false
   }
  },
  {
   "cell_type": "code",
   "execution_count": 56,
   "outputs": [],
   "source": [
    "X_train_38_preprocessed , X_test_38_preprocessed = preprocessing(X_train_38,X_test_38)\n",
    "X_train_19_preprocessed , X_test_19_preprocessed = preprocessing(X_train_19,X_test_19)"
   ],
   "metadata": {
    "collapsed": false
   }
  },
  {
   "cell_type": "markdown",
   "source": [
    "# Modeling"
   ],
   "metadata": {
    "collapsed": false
   }
  },
  {
   "cell_type": "code",
   "execution_count": 64,
   "outputs": [],
   "source": [
    "logistic_regression = LogisticRegression(random_state=random_state)\n",
    "XGC = XGBClassifier(random_state=random_state)\n",
    "SVC = SVC(random_state=random_state)\n",
    "models = {\n",
    "    'logistic_regression': logistic_regression,\n",
    "    'SVC': SVC,\n",
    "    'XGC': XGC,\n",
    "}"
   ],
   "metadata": {
    "collapsed": false
   }
  },
  {
   "cell_type": "code",
   "execution_count": 65,
   "outputs": [],
   "source": [
    "def evaluation(model,x_train,y_train,x_test,y_test):\n",
    "    model.fit(x_train, y_train)\n",
    "    y_predicted = model.predict(x_test)\n",
    "    f1 = f1_score(y_test, y_predicted, average='weighted')\n",
    "    print('The f1 score is ',f1)\n",
    "    print(confusion_matrix(y_true=y_test, y_pred=y_predicted), classification_report(y_true=y_test, y_pred=y_predicted))"
   ],
   "metadata": {
    "collapsed": false
   }
  },
  {
   "cell_type": "code",
   "execution_count": 67,
   "outputs": [
    {
     "name": "stdout",
     "output_type": "stream",
     "text": [
      "logistic_regression\n",
      "-*-*-*-*-*-*-*-*-*-*-*-*-*-*-*-*-*-*-*-* Using 38 features -*-*-*-*-*-*-*-*-*-*-*-*-*-*-*-*-*-*-*-*\n",
      "The f1 score is  0.4296153434231748\n",
      "[[282 250   8]\n",
      " [149 588  13]\n",
      " [153 295   5]]               precision    recall  f1-score   support\n",
      "\n",
      "         0.0       0.48      0.52      0.50       540\n",
      "         1.0       0.52      0.78      0.62       750\n",
      "         2.0       0.19      0.01      0.02       453\n",
      "\n",
      "    accuracy                           0.50      1743\n",
      "   macro avg       0.40      0.44      0.38      1743\n",
      "weighted avg       0.42      0.50      0.43      1743\n",
      "\n",
      "-*-*-*-*-*-*-*-*-*-*-*-*-*-*-*-*-*-*-*-* Using 19 features -*-*-*-*-*-*-*-*-*-*-*-*-*-*-*-*-*-*-*-*\n",
      "The f1 score is  0.4288095786217167\n",
      "[[291 249   0]\n",
      " [154 595   1]\n",
      " [156 297   0]]               precision    recall  f1-score   support\n",
      "\n",
      "         0.0       0.48      0.54      0.51       540\n",
      "         1.0       0.52      0.79      0.63       750\n",
      "         2.0       0.00      0.00      0.00       453\n",
      "\n",
      "    accuracy                           0.51      1743\n",
      "   macro avg       0.34      0.44      0.38      1743\n",
      "weighted avg       0.37      0.51      0.43      1743\n",
      "\n",
      "SVC\n",
      "-*-*-*-*-*-*-*-*-*-*-*-*-*-*-*-*-*-*-*-* Using 38 features -*-*-*-*-*-*-*-*-*-*-*-*-*-*-*-*-*-*-*-*\n",
      "The f1 score is  0.4380800430955104\n",
      "[[267 267   6]\n",
      " [134 609   7]\n",
      " [133 308  12]]               precision    recall  f1-score   support\n",
      "\n",
      "         0.0       0.50      0.49      0.50       540\n",
      "         1.0       0.51      0.81      0.63       750\n",
      "         2.0       0.48      0.03      0.05       453\n",
      "\n",
      "    accuracy                           0.51      1743\n",
      "   macro avg       0.50      0.44      0.39      1743\n",
      "weighted avg       0.50      0.51      0.44      1743\n",
      "\n",
      "-*-*-*-*-*-*-*-*-*-*-*-*-*-*-*-*-*-*-*-* Using 19 features -*-*-*-*-*-*-*-*-*-*-*-*-*-*-*-*-*-*-*-*\n",
      "The f1 score is  0.4314773081420407\n",
      "[[262 275   3]\n",
      " [126 622   2]\n",
      " [128 320   5]]               precision    recall  f1-score   support\n",
      "\n",
      "         0.0       0.51      0.49      0.50       540\n",
      "         1.0       0.51      0.83      0.63       750\n",
      "         2.0       0.50      0.01      0.02       453\n",
      "\n",
      "    accuracy                           0.51      1743\n",
      "   macro avg       0.51      0.44      0.38      1743\n",
      "weighted avg       0.51      0.51      0.43      1743\n",
      "\n",
      "XGC\n",
      "-*-*-*-*-*-*-*-*-*-*-*-*-*-*-*-*-*-*-*-* Using 38 features -*-*-*-*-*-*-*-*-*-*-*-*-*-*-*-*-*-*-*-*\n",
      "The f1 score is  0.44635930429369236\n",
      "[[248 208  84]\n",
      " [168 491  91]\n",
      " [150 228  75]]               precision    recall  f1-score   support\n",
      "\n",
      "         0.0       0.44      0.46      0.45       540\n",
      "         1.0       0.53      0.65      0.59       750\n",
      "         2.0       0.30      0.17      0.21       453\n",
      "\n",
      "    accuracy                           0.47      1743\n",
      "   macro avg       0.42      0.43      0.42      1743\n",
      "weighted avg       0.44      0.47      0.45      1743\n",
      "\n",
      "-*-*-*-*-*-*-*-*-*-*-*-*-*-*-*-*-*-*-*-* Using 19 features -*-*-*-*-*-*-*-*-*-*-*-*-*-*-*-*-*-*-*-*\n",
      "The f1 score is  0.439351066702302\n",
      "[[247 213  80]\n",
      " [165 484 101]\n",
      " [152 230  71]]               precision    recall  f1-score   support\n",
      "\n",
      "         0.0       0.44      0.46      0.45       540\n",
      "         1.0       0.52      0.65      0.58       750\n",
      "         2.0       0.28      0.16      0.20       453\n",
      "\n",
      "    accuracy                           0.46      1743\n",
      "   macro avg       0.41      0.42      0.41      1743\n",
      "weighted avg       0.43      0.46      0.44      1743\n",
      "\n"
     ]
    }
   ],
   "source": [
    "for name,model in models.items():\n",
    "    print(name)\n",
    "    print('-*' * 20 + ' Using 38 features ' + '-*' * 20)\n",
    "    evaluation(model,X_train_38_preprocessed,y_train_38,X_test_38_preprocessed,y_test_38)\n",
    "    print('-*' * 20 + ' Using 19 features ' + '-*' * 20)\n",
    "    evaluation(model,X_train_19_preprocessed,y_train_19,X_test_19_preprocessed,y_test_19)"
   ],
   "metadata": {
    "collapsed": false
   }
  }
 ],
 "metadata": {
  "kernelspec": {
   "display_name": "Python 3",
   "language": "python",
   "name": "python3"
  },
  "language_info": {
   "codemirror_mode": {
    "name": "ipython",
    "version": 2
   },
   "file_extension": ".py",
   "mimetype": "text/x-python",
   "name": "python",
   "nbconvert_exporter": "python",
   "pygments_lexer": "ipython2",
   "version": "2.7.6"
  }
 },
 "nbformat": 4,
 "nbformat_minor": 0
}
