{
 "cells": [
  {
   "cell_type": "code",
   "execution_count": 2,
   "metadata": {},
   "outputs": [
    {
     "name": "stdout",
     "output_type": "stream",
     "text": [
      "done\n",
      "egypt-premier-league-2019-2020.json.csv\n",
      "(306, 43)\n",
      "done\n",
      "egypt-premier-league-2020-2021.json.csv\n",
      "(306, 41)\n",
      "done\n",
      "egypt-premier-league-2021-2022.json.csv\n",
      "(306, 43)\n",
      "done\n",
      "egypt-premier-league-2022-2023.json.csv\n",
      "(306, 43)\n",
      "done\n",
      "egypt-premier-league-2023-2024.json.csv\n",
      "(125, 47)\n"
     ]
    }
   ],
   "source": [
    "import pandas as pd\n",
    "import numpy as np\n",
    "import json\n",
    "\n",
    "def convert(file_name):\n",
    "    with open(file_name, 'r') as file:\n",
    "        data = json.load(file)\n",
    "    s=pd.DataFrame()\n",
    "\n",
    "    l=np.array(s.columns)\n",
    "    \n",
    "    i=0\n",
    "\n",
    "    df=pd.DataFrame()\n",
    "    for id,match in data.items():\n",
    "        \n",
    "        s.loc[id,\"id\"]=id\n",
    "        s.loc[id,\"date\"]=match[\"date\"]\n",
    "        s.loc[id,\"home_team\"]=match[\"home\"][\"name\"]\n",
    "        s.loc[id,\"away_team\"]=match[\"away\"][\"name\"]\n",
    "        s.loc[id,\"home_goals\"]=match[\"result\"][\"home\"]\n",
    "        s.loc[id,\"away_goals\"]=match[\"result\"][\"away\"]\n",
    "        for stat in match[\"statistics\"]:\n",
    "            s.loc[id,stat[\"categoryName\"]+\"_home\"]=stat[\"homeValue\"]\n",
    "            s.loc[id,stat[\"categoryName\"]+\"_away\"]=stat[\"awayValue\"]\n",
    "        \n",
    "        #add s to df\n",
    "\n",
    "        pd.concat([df,s])\n",
    "\n",
    "        \n",
    "\n",
    "\n",
    "        #l=np.vstack((l,s.loc[id].values))\n",
    "        \n",
    "        #add s to the list l\n",
    "    #transform l to a dataframe\n",
    "  \n",
    "    csv_file_name=str(file_name) + \".csv\"\n",
    "    csv_path=\"C:/Users/Mehdi/Desktop/Football_Match_Prediction/Scraping/src/data/csv/egypt\"+\"/\"+csv_file_name\n",
    "    #add result column either draw (D) home win (H) or away win (A)\n",
    "    s[\"result\"]=np.where(s[\"home_goals\"]==s[\"away_goals\"],\"D\",np.where(s[\"home_goals\"]>s[\"away_goals\"],\"H\",\"A\"))\n",
    "    #replace empty red cards with 0\n",
    "    s[\"Red Cards_home\"]=s[\"Red Cards_home\"].replace(np.nan,0)\n",
    "    s[\"Red Cards_away\"]=s[\"Red Cards_away\"].replace(np.nan,0)\n",
    "    #print(s.isna().sum())\n",
    "    #drop status and xg columns\n",
    "    #s.drop(columns=[\"status\",\"Expected Goals (xG)_home\",\"Expected Goals (xG)_away\"],inplace=True)\n",
    "    s.to_csv(csv_path,index=False)\n",
    "  \n",
    "    print(\"done\")\n",
    "    print(csv_file_name) \n",
    "    print(s.shape)\n",
    "\n",
    "for i in range(2019,2024):\n",
    "\n",
    "    convert(f\"egypt-premier-league-{i}-{i+1}.json\")\n",
    "\n",
    "\n",
    "\n",
    "\n"
   ]
  }
 ],
 "metadata": {
  "kernelspec": {
   "display_name": "base",
   "language": "python",
   "name": "python3"
  },
  "language_info": {
   "codemirror_mode": {
    "name": "ipython",
    "version": 3
   },
   "file_extension": ".py",
   "mimetype": "text/x-python",
   "name": "python",
   "nbconvert_exporter": "python",
   "pygments_lexer": "ipython3",
   "version": "3.11.5"
  }
 },
 "nbformat": 4,
 "nbformat_minor": 2
}
